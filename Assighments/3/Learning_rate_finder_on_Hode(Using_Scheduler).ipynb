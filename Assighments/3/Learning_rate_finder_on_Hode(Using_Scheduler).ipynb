{
  "nbformat": 4,
  "nbformat_minor": 0,
  "metadata": {
    "colab": {
      "name": "Learning rate finder on Hode(Using Scheduler).ipynb",
      "provenance": [],
      "authorship_tag": "ABX9TyP6BC5fCPDsCdMxnFe9nfnG",
      "include_colab_link": true
    },
    "kernelspec": {
      "name": "python3",
      "display_name": "Python 3"
    },
    "language_info": {
      "name": "python"
    }
  },
  "cells": [
    {
      "cell_type": "markdown",
      "metadata": {
        "id": "view-in-github",
        "colab_type": "text"
      },
      "source": [
        "<a href=\"https://colab.research.google.com/github/Alirez1043/DeepLearning/blob/main/Assighments/3/Learning_rate_finder_on_Hode(Using_Scheduler).ipynb\" target=\"_parent\"><img src=\"https://colab.research.google.com/assets/colab-badge.svg\" alt=\"Open In Colab\"/></a>"
      ]
    },
    {
      "cell_type": "markdown",
      "source": [
        "# **Download Dataset**"
      ],
      "metadata": {
        "id": "BjJQzVH72GRm"
      }
    },
    {
      "cell_type": "code",
      "execution_count": 1,
      "metadata": {
        "colab": {
          "base_uri": "https://localhost:8080/"
        },
        "id": "lIH4XvFj1Ak2",
        "outputId": "614a79a5-8844-43c1-89fc-24376680b6cf"
      },
      "outputs": [
        {
          "output_type": "stream",
          "name": "stdout",
          "text": [
            "--2022-03-03 22:14:42--  https://raw.githubusercontent.com/Alireza-Akhavan/SRU-deeplearning-workshop/master/dataset.py\n",
            "Resolving raw.githubusercontent.com (raw.githubusercontent.com)... 185.199.108.133, 185.199.109.133, 185.199.110.133, ...\n",
            "Connecting to raw.githubusercontent.com (raw.githubusercontent.com)|185.199.108.133|:443... connected.\n",
            "HTTP request sent, awaiting response... 200 OK\n",
            "Length: 929 [text/plain]\n",
            "Saving to: ‘dataset.py’\n",
            "\n",
            "\rdataset.py            0%[                    ]       0  --.-KB/s               \rdataset.py          100%[===================>]     929  --.-KB/s    in 0s      \n",
            "\n",
            "2022-03-03 22:14:43 (8.50 MB/s) - ‘dataset.py’ saved [929/929]\n",
            "\n",
            "--2022-03-03 22:14:43--  https://github.com/Alireza-Akhavan/SRU-deeplearning-workshop/raw/master/dataset/Data_hoda_full.mat\n",
            "Resolving github.com (github.com)... 192.30.255.112\n",
            "Connecting to github.com (github.com)|192.30.255.112|:443... connected.\n",
            "HTTP request sent, awaiting response... 302 Found\n",
            "Location: https://raw.githubusercontent.com/Alireza-Akhavan/SRU-deeplearning-workshop/master/dataset/Data_hoda_full.mat [following]\n",
            "--2022-03-03 22:14:43--  https://raw.githubusercontent.com/Alireza-Akhavan/SRU-deeplearning-workshop/master/dataset/Data_hoda_full.mat\n",
            "Resolving raw.githubusercontent.com (raw.githubusercontent.com)... 185.199.108.133, 185.199.109.133, 185.199.110.133, ...\n",
            "Connecting to raw.githubusercontent.com (raw.githubusercontent.com)|185.199.108.133|:443... connected.\n",
            "HTTP request sent, awaiting response... 200 OK\n",
            "Length: 3989009 (3.8M) [application/octet-stream]\n",
            "Saving to: ‘dataset/Data_hoda_full.mat’\n",
            "\n",
            "Data_hoda_full.mat  100%[===================>]   3.80M  --.-KB/s    in 0.07s   \n",
            "\n",
            "2022-03-03 22:14:44 (53.1 MB/s) - ‘dataset/Data_hoda_full.mat’ saved [3989009/3989009]\n",
            "\n"
          ]
        }
      ],
      "source": [
        "!wget https://raw.githubusercontent.com/Alireza-Akhavan/SRU-deeplearning-workshop/master/dataset.py\n",
        "!mkdir dataset\n",
        "!wget https://github.com/Alireza-Akhavan/SRU-deeplearning-workshop/raw/master/dataset/Data_hoda_full.mat -P dataset"
      ]
    },
    {
      "cell_type": "markdown",
      "source": [
        "Download Learning Rate Finder source file from github"
      ],
      "metadata": {
        "id": "_uCXyBgy2K5C"
      }
    },
    {
      "cell_type": "code",
      "source": [
        "!wget https://raw.githubusercontent.com/Alireza-Akhavan/tf2-tutorial/master/callbacks/learningratefinder.py "
      ],
      "metadata": {
        "colab": {
          "base_uri": "https://localhost:8080/"
        },
        "id": "kn4lEiux2Kin",
        "outputId": "e9271db9-d1bf-409e-81fa-e9157bf2cd82"
      },
      "execution_count": 2,
      "outputs": [
        {
          "output_type": "stream",
          "name": "stdout",
          "text": [
            "--2022-03-03 22:14:44--  https://raw.githubusercontent.com/Alireza-Akhavan/tf2-tutorial/master/callbacks/learningratefinder.py\n",
            "Resolving raw.githubusercontent.com (raw.githubusercontent.com)... 185.199.108.133, 185.199.109.133, 185.199.110.133, ...\n",
            "Connecting to raw.githubusercontent.com (raw.githubusercontent.com)|185.199.108.133|:443... connected.\n",
            "HTTP request sent, awaiting response... 200 OK\n",
            "Length: 5439 (5.3K) [text/plain]\n",
            "Saving to: ‘learningratefinder.py’\n",
            "\n",
            "learningratefinder. 100%[===================>]   5.31K  --.-KB/s    in 0s      \n",
            "\n",
            "2022-03-03 22:14:44 (53.6 MB/s) - ‘learningratefinder.py’ saved [5439/5439]\n",
            "\n"
          ]
        }
      ]
    },
    {
      "cell_type": "markdown",
      "source": [
        "# **Import Libararies**"
      ],
      "metadata": {
        "id": "jKURtu5w2abV"
      }
    },
    {
      "cell_type": "code",
      "source": [
        "import tensorflow as tf\n",
        "from tensorflow import keras\n",
        "from keras import layers\n",
        "from keras.layers.convolutional import Conv2D\n",
        "from keras.layers.pooling import MaxPooling2D\n",
        "from keras.models import Model\n",
        "from keras.layers.core import Dropout\n",
        "import numpy as np\n",
        "from dataset import load_hoda\n",
        "from learningratefinder import LearningRateFinder\n",
        "import matplotlib.pyplot as plt\n",
        "import os"
      ],
      "metadata": {
        "id": "XstXe96G2WV4"
      },
      "execution_count": 3,
      "outputs": []
    },
    {
      "cell_type": "markdown",
      "source": [
        ""
      ],
      "metadata": {
        "id": "zTAb0spq2pPE"
      }
    },
    {
      "cell_type": "markdown",
      "source": [
        "# **Prepare Data**"
      ],
      "metadata": {
        "id": "V0DgR7Mbqs2C"
      }
    },
    {
      "cell_type": "code",
      "source": [
        "# Load pre-shuffled HODA data into train and test sets\n",
        "x_train_original, y_train_original, x_test_original, y_test_original = load_hoda(\n",
        "                                                                        training_sample_size=3500,\n",
        "                                                                        test_sample_size=400,size=28)\n",
        "\n",
        "# Preprocess input data\n",
        "''' 3.1: input data in numpy array format'''\n",
        "x_train = np.array(x_train_original)\n",
        "x_test = np.array(x_test_original)\n",
        "'''3.2 normalize our data values to the range [0, 1]'''\n",
        "x_train = x_train.astype('float32')\n",
        "x_test = x_test.astype('float32')\n",
        "x_train /= 255\n",
        "x_test /= 255\n",
        "\n",
        "Image_Height = Image_Width = 28\n",
        "Image_Channels = 1\n",
        "\n",
        "# Reshape to original image shape (n x 784)  ==> (n x 28 x 28 x 1)\n",
        "x_train = x_train.reshape(-1 , Image_Height , Image_Width , Image_Channels )\n",
        "x_test = x_test.reshape(-1 , Image_Height , Image_Width , Image_Channels )\n",
        "\n",
        "\n",
        "# 4. Preprocess class labels\n",
        "y_train = keras.utils.to_categorical(y_train_original, num_classes=10)\n",
        "y_test = keras.utils.to_categorical(y_test_original, num_classes=10)\n",
        "\n",
        "\n",
        "# test and validation set\n",
        "x_val = x_test[:200]\n",
        "x_test = x_test[200:]\n",
        "y_val = y_test[:200]\n",
        "y_test = y_test[200:]"
      ],
      "metadata": {
        "id": "oL1wsqSw2l7O"
      },
      "execution_count": 4,
      "outputs": []
    },
    {
      "cell_type": "markdown",
      "source": [
        "# **Make Model Architecture**"
      ],
      "metadata": {
        "id": "8233QMez2zFV"
      }
    },
    {
      "cell_type": "code",
      "source": [
        "def get_training_model():\n",
        "    input_ = layers.Input(shape = x_train.shape[1:] ,name = 'input')\n",
        "    conv1 = Conv2D(32 ,(3,3) ,activation = 'relu')(input_)\n",
        "    pool1 = MaxPooling2D((2,2))(conv1)\n",
        "    conv2 = Conv2D(64 ,(3,3) ,activation = 'relu')(pool1)\n",
        "    pool2 = MaxPooling2D((2,2))(conv2)\n",
        "    conv3 = Conv2D(64 ,(3,3) ,activation = 'relu')(pool2)\n",
        "    flatten = layers.Flatten()(conv3)\n",
        "    D1 = layers.Dense(64 ,activation = 'relu')(flatten)\n",
        "    D1  = Dropout(0.5)(D1)\n",
        "    output = keras.layers.Dense(10 ,activation = 'softmax' ,name = 'output')(D1)\n",
        "\n",
        "    return keras.models.Model(inputs=input_ , outputs=output)"
      ],
      "metadata": {
        "id": "cNu92aCT2vqs"
      },
      "execution_count": 5,
      "outputs": []
    },
    {
      "cell_type": "code",
      "source": [
        "# Compile model\n",
        "standard_model = get_training_model()\n",
        "standard_model.compile(loss='categorical_crossentropy',\n",
        "              optimizer=\"adam\",\n",
        "              metrics=['accuracy'])"
      ],
      "metadata": {
        "id": "UzJrDi1w26sX"
      },
      "execution_count": 6,
      "outputs": []
    },
    {
      "cell_type": "code",
      "source": [
        "lrf = LearningRateFinder(standard_model)\n",
        "lrf.find((x_train, y_train),1e-10, 1)\n",
        "lrf.plot_loss()"
      ],
      "metadata": {
        "colab": {
          "base_uri": "https://localhost:8080/",
          "height": 873
        },
        "id": "Ngsk6QAI2_3P",
        "outputId": "84cf2d2d-eaed-4c0c-c41f-7d8150ea1508"
      },
      "execution_count": 7,
      "outputs": [
        {
          "output_type": "stream",
          "name": "stdout",
          "text": [
            "Epoch 1/19\n",
            "110/110 [==============================] - 4s 29ms/step - loss: 2.3094 - accuracy: 0.1111\n",
            "Epoch 2/19\n",
            "110/110 [==============================] - 3s 30ms/step - loss: 2.3098 - accuracy: 0.1109\n",
            "Epoch 3/19\n",
            "110/110 [==============================] - 3s 29ms/step - loss: 2.3063 - accuracy: 0.1131\n",
            "Epoch 4/19\n",
            "110/110 [==============================] - 3s 29ms/step - loss: 2.3105 - accuracy: 0.1054\n",
            "Epoch 5/19\n",
            "110/110 [==============================] - 3s 30ms/step - loss: 2.3074 - accuracy: 0.1131\n",
            "Epoch 6/19\n",
            "110/110 [==============================] - 4s 38ms/step - loss: 2.3069 - accuracy: 0.1146\n",
            "Epoch 7/19\n",
            "110/110 [==============================] - 3s 30ms/step - loss: 2.3065 - accuracy: 0.1106\n",
            "Epoch 8/19\n",
            "110/110 [==============================] - 3s 30ms/step - loss: 2.3049 - accuracy: 0.1123\n",
            "Epoch 9/19\n",
            "110/110 [==============================] - 3s 30ms/step - loss: 2.2984 - accuracy: 0.1186\n",
            "Epoch 10/19\n",
            "110/110 [==============================] - 3s 30ms/step - loss: 2.2776 - accuracy: 0.1426\n",
            "Epoch 11/19\n",
            "110/110 [==============================] - 3s 30ms/step - loss: 2.1662 - accuracy: 0.2769\n",
            "Epoch 12/19\n",
            "110/110 [==============================] - 3s 30ms/step - loss: 1.3512 - accuracy: 0.5734\n",
            "Epoch 13/19\n",
            "110/110 [==============================] - 3s 30ms/step - loss: 0.6739 - accuracy: 0.7740\n",
            "Epoch 14/19\n",
            "110/110 [==============================] - 3s 30ms/step - loss: 0.4416 - accuracy: 0.8471\n",
            "Epoch 15/19\n",
            "110/110 [==============================] - 3s 30ms/step - loss: 0.3366 - accuracy: 0.8940\n",
            "Epoch 16/19\n",
            "110/110 [==============================] - 3s 29ms/step - loss: 0.9006 - accuracy: 0.7911\n",
            "Epoch 17/19\n",
            "110/110 [==============================] - 2s 20ms/step - loss: 1.8819 - accuracy: 0.3954\n"
          ]
        },
        {
          "output_type": "display_data",
          "data": {
            "image/png": "[encoded data removed]",
            "text/plain": [
              "<Figure size 432x288 with 1 Axes>"
            ]
          },
          "metadata": {
            "needs_background": "light"
          }
        }
      ]
    },
    {
      "cell_type": "markdown",
      "source": [
        "# **Define hyperparameters**"
      ],
      "metadata": {
        "id": "UdOVQR563iq6"
      }
    },
    {
      "cell_type": "code",
      "source": [
        "BATCH_SIZE = 256\n",
        "EPOCHS = 80\n",
        "MIN_LR = 1e-4\n",
        "MAX_LR = 1e-3"
      ],
      "metadata": {
        "id": "g_NmCLgB3NVS"
      },
      "execution_count": 11,
      "outputs": []
    },
    {
      "cell_type": "markdown",
      "source": [
        "# Train a model without Learning Finder"
      ],
      "metadata": {
        "id": "7aOK3LNX38nd"
      }
    },
    {
      "cell_type": "code",
      "source": [
        "model = get_training_model()\n",
        "model.compile(loss=\"categorical_crossentropy\", optimizer=\"adam\",metrics=[\"accuracy\"])\n",
        "history = model.fit(x_train,\n",
        "        y_train,\n",
        "        batch_size=BATCH_SIZE,\n",
        "        validation_data=(x_val, y_val),\n",
        "        epochs=EPOCHS)"
      ],
      "metadata": {
        "colab": {
          "base_uri": "https://localhost:8080/"
        },
        "id": "rPw1OakW3uHq",
        "outputId": "13870a06-da09-465b-c265-7370da707051"
      },
      "execution_count": 10,
      "outputs": [
        {
          "output_type": "stream",
          "name": "stdout",
          "text": [
            "Epoch 1/80\n",
            "14/14 [==============================] - 3s 200ms/step - loss: 2.0296 - accuracy: 0.2980 - val_loss: 1.3118 - val_accuracy: 0.7550\n",
            "Epoch 2/80\n",
            "14/14 [==============================] - 3s 180ms/step - loss: 1.1198 - accuracy: 0.6151 - val_loss: 0.4991 - val_accuracy: 0.8450\n",
            "Epoch 3/80\n",
            "14/14 [==============================] - 3s 178ms/step - loss: 0.7201 - accuracy: 0.7591 - val_loss: 0.3567 - val_accuracy: 0.8800\n",
            "Epoch 4/80\n",
            "14/14 [==============================] - 2s 178ms/step - loss: 0.6094 - accuracy: 0.7960 - val_loss: 0.3122 - val_accuracy: 0.9000\n",
            "Epoch 5/80\n",
            "14/14 [==============================] - 2s 178ms/step - loss: 0.5023 - accuracy: 0.8280 - val_loss: 0.2279 - val_accuracy: 0.9200\n",
            "Epoch 6/80\n",
            "14/14 [==============================] - 2s 178ms/step - loss: 0.4226 - accuracy: 0.8526 - val_loss: 0.1938 - val_accuracy: 0.9300\n",
            "Epoch 7/80\n",
            "14/14 [==============================] - 3s 180ms/step - loss: 0.3491 - accuracy: 0.8843 - val_loss: 0.1552 - val_accuracy: 0.9500\n",
            "Epoch 8/80\n",
            "14/14 [==============================] - 3s 178ms/step - loss: 0.2954 - accuracy: 0.9029 - val_loss: 0.1498 - val_accuracy: 0.9550\n",
            "Epoch 9/80\n",
            "14/14 [==============================] - 2s 178ms/step - loss: 0.2785 - accuracy: 0.9046 - val_loss: 0.1453 - val_accuracy: 0.9450\n",
            "Epoch 10/80\n",
            "14/14 [==============================] - 3s 179ms/step - loss: 0.2438 - accuracy: 0.9169 - val_loss: 0.1463 - val_accuracy: 0.9450\n",
            "Epoch 11/80\n",
            "14/14 [==============================] - 3s 180ms/step - loss: 0.2283 - accuracy: 0.9234 - val_loss: 0.1575 - val_accuracy: 0.9400\n",
            "Epoch 12/80\n",
            "14/14 [==============================] - 2s 178ms/step - loss: 0.2283 - accuracy: 0.9263 - val_loss: 0.1090 - val_accuracy: 0.9700\n",
            "Epoch 13/80\n",
            "14/14 [==============================] - 2s 177ms/step - loss: 0.2042 - accuracy: 0.9314 - val_loss: 0.1152 - val_accuracy: 0.9600\n",
            "Epoch 14/80\n",
            "14/14 [==============================] - 3s 179ms/step - loss: 0.1856 - accuracy: 0.9374 - val_loss: 0.1060 - val_accuracy: 0.9600\n",
            "Epoch 15/80\n",
            "14/14 [==============================] - 2s 178ms/step - loss: 0.1658 - accuracy: 0.9423 - val_loss: 0.1106 - val_accuracy: 0.9600\n",
            "Epoch 16/80\n",
            "14/14 [==============================] - 2s 178ms/step - loss: 0.1629 - accuracy: 0.9431 - val_loss: 0.0974 - val_accuracy: 0.9750\n",
            "Epoch 17/80\n",
            "14/14 [==============================] - 2s 177ms/step - loss: 0.1473 - accuracy: 0.9529 - val_loss: 0.0933 - val_accuracy: 0.9700\n",
            "Epoch 18/80\n",
            "14/14 [==============================] - 3s 179ms/step - loss: 0.1324 - accuracy: 0.9554 - val_loss: 0.0932 - val_accuracy: 0.9750\n",
            "Epoch 19/80\n",
            "14/14 [==============================] - 2s 177ms/step - loss: 0.1303 - accuracy: 0.9586 - val_loss: 0.0791 - val_accuracy: 0.9750\n",
            "Epoch 20/80\n",
            "14/14 [==============================] - 2s 178ms/step - loss: 0.1260 - accuracy: 0.9583 - val_loss: 0.0904 - val_accuracy: 0.9700\n",
            "Epoch 21/80\n",
            "14/14 [==============================] - 2s 178ms/step - loss: 0.1121 - accuracy: 0.9646 - val_loss: 0.0953 - val_accuracy: 0.9800\n",
            "Epoch 22/80\n",
            "14/14 [==============================] - 2s 177ms/step - loss: 0.1101 - accuracy: 0.9637 - val_loss: 0.0891 - val_accuracy: 0.9750\n",
            "Epoch 23/80\n",
            "14/14 [==============================] - 2s 178ms/step - loss: 0.0984 - accuracy: 0.9686 - val_loss: 0.0819 - val_accuracy: 0.9750\n",
            "Epoch 24/80\n",
            "14/14 [==============================] - 3s 178ms/step - loss: 0.0995 - accuracy: 0.9649 - val_loss: 0.0835 - val_accuracy: 0.9750\n",
            "Epoch 25/80\n",
            "14/14 [==============================] - 2s 178ms/step - loss: 0.1017 - accuracy: 0.9620 - val_loss: 0.0881 - val_accuracy: 0.9800\n",
            "Epoch 26/80\n",
            "14/14 [==============================] - 3s 179ms/step - loss: 0.0906 - accuracy: 0.9680 - val_loss: 0.0743 - val_accuracy: 0.9800\n",
            "Epoch 27/80\n",
            "14/14 [==============================] - 3s 212ms/step - loss: 0.0835 - accuracy: 0.9711 - val_loss: 0.0742 - val_accuracy: 0.9850\n",
            "Epoch 28/80\n",
            "14/14 [==============================] - 3s 180ms/step - loss: 0.0875 - accuracy: 0.9697 - val_loss: 0.0801 - val_accuracy: 0.9800\n",
            "Epoch 29/80\n",
            "14/14 [==============================] - 2s 176ms/step - loss: 0.0834 - accuracy: 0.9731 - val_loss: 0.1011 - val_accuracy: 0.9800\n",
            "Epoch 30/80\n",
            "14/14 [==============================] - 2s 178ms/step - loss: 0.0759 - accuracy: 0.9746 - val_loss: 0.0972 - val_accuracy: 0.9800\n",
            "Epoch 31/80\n",
            "14/14 [==============================] - 2s 177ms/step - loss: 0.0692 - accuracy: 0.9780 - val_loss: 0.0877 - val_accuracy: 0.9800\n",
            "Epoch 32/80\n",
            "14/14 [==============================] - 2s 177ms/step - loss: 0.0726 - accuracy: 0.9754 - val_loss: 0.0867 - val_accuracy: 0.9850\n",
            "Epoch 33/80\n",
            "14/14 [==============================] - 3s 220ms/step - loss: 0.0672 - accuracy: 0.9769 - val_loss: 0.0777 - val_accuracy: 0.9800\n",
            "Epoch 34/80\n",
            "14/14 [==============================] - 2s 178ms/step - loss: 0.0801 - accuracy: 0.9749 - val_loss: 0.0995 - val_accuracy: 0.9750\n",
            "Epoch 35/80\n",
            "14/14 [==============================] - 3s 179ms/step - loss: 0.0648 - accuracy: 0.9771 - val_loss: 0.0992 - val_accuracy: 0.9750\n",
            "Epoch 36/80\n",
            "14/14 [==============================] - 2s 179ms/step - loss: 0.0570 - accuracy: 0.9803 - val_loss: 0.1020 - val_accuracy: 0.9850\n",
            "Epoch 37/80\n",
            "14/14 [==============================] - 2s 178ms/step - loss: 0.0582 - accuracy: 0.9811 - val_loss: 0.0920 - val_accuracy: 0.9850\n",
            "Epoch 38/80\n",
            "14/14 [==============================] - 2s 179ms/step - loss: 0.0502 - accuracy: 0.9834 - val_loss: 0.0989 - val_accuracy: 0.9800\n",
            "Epoch 39/80\n",
            "14/14 [==============================] - 2s 177ms/step - loss: 0.0597 - accuracy: 0.9783 - val_loss: 0.0846 - val_accuracy: 0.9750\n",
            "Epoch 40/80\n",
            "14/14 [==============================] - 2s 177ms/step - loss: 0.0518 - accuracy: 0.9797 - val_loss: 0.0808 - val_accuracy: 0.9850\n",
            "Epoch 41/80\n",
            "14/14 [==============================] - 2s 176ms/step - loss: 0.0548 - accuracy: 0.9817 - val_loss: 0.0835 - val_accuracy: 0.9800\n",
            "Epoch 42/80\n",
            "14/14 [==============================] - 3s 180ms/step - loss: 0.0472 - accuracy: 0.9846 - val_loss: 0.1058 - val_accuracy: 0.9800\n",
            "Epoch 43/80\n",
            "14/14 [==============================] - 2s 178ms/step - loss: 0.0430 - accuracy: 0.9854 - val_loss: 0.1122 - val_accuracy: 0.9750\n",
            "Epoch 44/80\n",
            "14/14 [==============================] - 2s 179ms/step - loss: 0.0415 - accuracy: 0.9860 - val_loss: 0.1019 - val_accuracy: 0.9800\n",
            "Epoch 45/80\n",
            "14/14 [==============================] - 2s 176ms/step - loss: 0.0489 - accuracy: 0.9826 - val_loss: 0.0963 - val_accuracy: 0.9850\n",
            "Epoch 46/80\n",
            "14/14 [==============================] - 2s 177ms/step - loss: 0.0402 - accuracy: 0.9854 - val_loss: 0.1059 - val_accuracy: 0.9800\n",
            "Epoch 47/80\n",
            "14/14 [==============================] - 3s 178ms/step - loss: 0.0401 - accuracy: 0.9854 - val_loss: 0.0845 - val_accuracy: 0.9800\n",
            "Epoch 48/80\n",
            "14/14 [==============================] - 2s 177ms/step - loss: 0.0430 - accuracy: 0.9866 - val_loss: 0.0976 - val_accuracy: 0.9700\n",
            "Epoch 49/80\n",
            "14/14 [==============================] - 3s 181ms/step - loss: 0.0445 - accuracy: 0.9840 - val_loss: 0.1061 - val_accuracy: 0.9800\n",
            "Epoch 50/80\n",
            "14/14 [==============================] - 3s 182ms/step - loss: 0.0445 - accuracy: 0.9857 - val_loss: 0.1101 - val_accuracy: 0.9800\n",
            "Epoch 51/80\n",
            "14/14 [==============================] - 2s 177ms/step - loss: 0.0291 - accuracy: 0.9914 - val_loss: 0.1289 - val_accuracy: 0.9800\n",
            "Epoch 52/80\n",
            "14/14 [==============================] - 3s 179ms/step - loss: 0.0312 - accuracy: 0.9886 - val_loss: 0.1231 - val_accuracy: 0.9850\n",
            "Epoch 53/80\n",
            "14/14 [==============================] - 3s 181ms/step - loss: 0.0369 - accuracy: 0.9860 - val_loss: 0.1133 - val_accuracy: 0.9750\n",
            "Epoch 54/80\n",
            "14/14 [==============================] - 3s 181ms/step - loss: 0.0360 - accuracy: 0.9874 - val_loss: 0.1156 - val_accuracy: 0.9800\n",
            "Epoch 55/80\n",
            "14/14 [==============================] - 3s 183ms/step - loss: 0.0271 - accuracy: 0.9909 - val_loss: 0.1247 - val_accuracy: 0.9850\n",
            "Epoch 56/80\n",
            "14/14 [==============================] - 3s 181ms/step - loss: 0.0343 - accuracy: 0.9880 - val_loss: 0.1524 - val_accuracy: 0.9800\n",
            "Epoch 57/80\n",
            "14/14 [==============================] - 3s 181ms/step - loss: 0.0329 - accuracy: 0.9880 - val_loss: 0.1038 - val_accuracy: 0.9850\n",
            "Epoch 58/80\n",
            "14/14 [==============================] - 3s 179ms/step - loss: 0.0318 - accuracy: 0.9886 - val_loss: 0.1368 - val_accuracy: 0.9800\n",
            "Epoch 59/80\n",
            "14/14 [==============================] - 2s 178ms/step - loss: 0.0300 - accuracy: 0.9866 - val_loss: 0.1276 - val_accuracy: 0.9850\n",
            "Epoch 60/80\n",
            "14/14 [==============================] - 3s 179ms/step - loss: 0.0311 - accuracy: 0.9886 - val_loss: 0.1027 - val_accuracy: 0.9850\n",
            "Epoch 61/80\n",
            "14/14 [==============================] - 3s 180ms/step - loss: 0.0295 - accuracy: 0.9906 - val_loss: 0.1144 - val_accuracy: 0.9850\n",
            "Epoch 62/80\n",
            "14/14 [==============================] - 3s 181ms/step - loss: 0.0258 - accuracy: 0.9911 - val_loss: 0.1094 - val_accuracy: 0.9850\n",
            "Epoch 63/80\n",
            "14/14 [==============================] - 3s 180ms/step - loss: 0.0227 - accuracy: 0.9929 - val_loss: 0.1116 - val_accuracy: 0.9800\n",
            "Epoch 64/80\n",
            "14/14 [==============================] - 3s 181ms/step - loss: 0.0327 - accuracy: 0.9886 - val_loss: 0.0906 - val_accuracy: 0.9850\n",
            "Epoch 65/80\n",
            "14/14 [==============================] - 3s 180ms/step - loss: 0.0317 - accuracy: 0.9877 - val_loss: 0.1317 - val_accuracy: 0.9850\n",
            "Epoch 66/80\n",
            "14/14 [==============================] - 3s 184ms/step - loss: 0.0294 - accuracy: 0.9897 - val_loss: 0.0904 - val_accuracy: 0.9850\n",
            "Epoch 67/80\n",
            "14/14 [==============================] - 2s 179ms/step - loss: 0.0292 - accuracy: 0.9894 - val_loss: 0.0954 - val_accuracy: 0.9800\n",
            "Epoch 68/80\n",
            "14/14 [==============================] - 3s 241ms/step - loss: 0.0322 - accuracy: 0.9877 - val_loss: 0.0889 - val_accuracy: 0.9800\n",
            "Epoch 69/80\n",
            "14/14 [==============================] - 3s 182ms/step - loss: 0.0252 - accuracy: 0.9931 - val_loss: 0.1198 - val_accuracy: 0.9850\n",
            "Epoch 70/80\n",
            "14/14 [==============================] - 2s 178ms/step - loss: 0.0212 - accuracy: 0.9926 - val_loss: 0.1056 - val_accuracy: 0.9850\n",
            "Epoch 71/80\n",
            "14/14 [==============================] - 3s 179ms/step - loss: 0.0201 - accuracy: 0.9929 - val_loss: 0.1002 - val_accuracy: 0.9800\n",
            "Epoch 72/80\n",
            "14/14 [==============================] - 2s 178ms/step - loss: 0.0184 - accuracy: 0.9937 - val_loss: 0.1133 - val_accuracy: 0.9800\n",
            "Epoch 73/80\n",
            "14/14 [==============================] - 3s 185ms/step - loss: 0.0169 - accuracy: 0.9931 - val_loss: 0.1091 - val_accuracy: 0.9850\n",
            "Epoch 74/80\n",
            "14/14 [==============================] - 2s 178ms/step - loss: 0.0217 - accuracy: 0.9929 - val_loss: 0.1249 - val_accuracy: 0.9850\n",
            "Epoch 75/80\n",
            "14/14 [==============================] - 2s 178ms/step - loss: 0.0263 - accuracy: 0.9911 - val_loss: 0.1404 - val_accuracy: 0.9750\n",
            "Epoch 76/80\n",
            "14/14 [==============================] - 2s 178ms/step - loss: 0.0247 - accuracy: 0.9906 - val_loss: 0.1061 - val_accuracy: 0.9850\n",
            "Epoch 77/80\n",
            "14/14 [==============================] - 3s 181ms/step - loss: 0.0217 - accuracy: 0.9911 - val_loss: 0.1105 - val_accuracy: 0.9850\n",
            "Epoch 78/80\n",
            "14/14 [==============================] - 3s 179ms/step - loss: 0.0263 - accuracy: 0.9914 - val_loss: 0.1231 - val_accuracy: 0.9750\n",
            "Epoch 79/80\n",
            "14/14 [==============================] - 3s 181ms/step - loss: 0.0227 - accuracy: 0.9931 - val_loss: 0.1313 - val_accuracy: 0.9850\n",
            "Epoch 80/80\n",
            "14/14 [==============================] - 3s 178ms/step - loss: 0.0203 - accuracy: 0.9934 - val_loss: 0.1403 - val_accuracy: 0.9800\n"
          ]
        }
      ]
    },
    {
      "cell_type": "markdown",
      "source": [
        "# Training Model With Learning Finder"
      ],
      "metadata": {
        "id": "ENY86r5cGJL3"
      }
    },
    {
      "cell_type": "code",
      "source": [
        "def schedule(epoch, lr):\n",
        "  MIN_LR = 1e-4\n",
        "  MAX_LR = 1e-3\n",
        "  steps_to_decay = 20\n",
        "  if epoch % steps_to_decay == 0:\n",
        "    if lr > MIN_LR: \n",
        "      return lr / (1 +(epoch // steps_to_decay) )\n",
        "    else:\n",
        "      return MIN_LR\n",
        "\n",
        "  return lr"
      ],
      "metadata": {
        "id": "f_S42AUH4Nz2"
      },
      "execution_count": 47,
      "outputs": []
    },
    {
      "cell_type": "code",
      "source": [
        "lr_schedular = keras.callbacks.LearningRateScheduler(schedule)"
      ],
      "metadata": {
        "id": "KBcQHiga5kUg"
      },
      "execution_count": 48,
      "outputs": []
    },
    {
      "cell_type": "code",
      "source": [
        "optimize_model = get_training_model()\n",
        "optimize_model.compile(loss=\"categorical_crossentropy\", optimizer=\"adam\",metrics=[\"accuracy\"])\n",
        "optimize_history = optimize_model.fit(x_train, y_train,\n",
        "                    epochs=80,\n",
        "                    batch_size=256,\n",
        "                    validation_data = (x_val, y_val),\n",
        "                    callbacks=[lr_schedular])"
      ],
      "metadata": {
        "colab": {
          "base_uri": "https://localhost:8080/"
        },
        "id": "GJoAODNH5ng_",
        "outputId": "440831ed-1cf0-42ec-9e79-c0b6ccd70b6b"
      },
      "execution_count": 49,
      "outputs": [
        {
          "output_type": "stream",
          "name": "stdout",
          "text": [
            "Epoch 1/80\n",
            "14/14 [==============================] - 3s 198ms/step - loss: 2.0545 - accuracy: 0.3474 - val_loss: 1.3594 - val_accuracy: 0.6900 - lr: 0.0010\n",
            "Epoch 2/80\n",
            "14/14 [==============================] - 3s 186ms/step - loss: 1.1941 - accuracy: 0.6100 - val_loss: 0.5399 - val_accuracy: 0.8600 - lr: 0.0010\n",
            "Epoch 3/80\n",
            "14/14 [==============================] - 3s 182ms/step - loss: 0.7866 - accuracy: 0.7397 - val_loss: 0.3407 - val_accuracy: 0.9000 - lr: 0.0010\n",
            "Epoch 4/80\n",
            "14/14 [==============================] - 3s 183ms/step - loss: 0.5808 - accuracy: 0.8034 - val_loss: 0.2887 - val_accuracy: 0.9000 - lr: 0.0010\n",
            "Epoch 5/80\n",
            "14/14 [==============================] - 3s 182ms/step - loss: 0.4753 - accuracy: 0.8446 - val_loss: 0.2031 - val_accuracy: 0.9350 - lr: 0.0010\n",
            "Epoch 6/80\n",
            "14/14 [==============================] - 3s 183ms/step - loss: 0.4028 - accuracy: 0.8697 - val_loss: 0.1783 - val_accuracy: 0.9650 - lr: 0.0010\n",
            "Epoch 7/80\n",
            "14/14 [==============================] - 3s 182ms/step - loss: 0.3608 - accuracy: 0.8814 - val_loss: 0.1663 - val_accuracy: 0.9550 - lr: 0.0010\n",
            "Epoch 8/80\n",
            "14/14 [==============================] - 3s 181ms/step - loss: 0.3010 - accuracy: 0.8991 - val_loss: 0.1737 - val_accuracy: 0.9350 - lr: 0.0010\n",
            "Epoch 9/80\n",
            "14/14 [==============================] - 3s 181ms/step - loss: 0.2654 - accuracy: 0.9117 - val_loss: 0.1541 - val_accuracy: 0.9500 - lr: 0.0010\n",
            "Epoch 10/80\n",
            "14/14 [==============================] - 3s 185ms/step - loss: 0.2353 - accuracy: 0.9214 - val_loss: 0.1352 - val_accuracy: 0.9550 - lr: 0.0010\n",
            "Epoch 11/80\n",
            "14/14 [==============================] - 3s 182ms/step - loss: 0.2199 - accuracy: 0.9334 - val_loss: 0.1263 - val_accuracy: 0.9650 - lr: 0.0010\n",
            "Epoch 12/80\n",
            "14/14 [==============================] - 3s 183ms/step - loss: 0.1850 - accuracy: 0.9371 - val_loss: 0.1074 - val_accuracy: 0.9700 - lr: 0.0010\n",
            "Epoch 13/80\n",
            "14/14 [==============================] - 3s 183ms/step - loss: 0.1950 - accuracy: 0.9343 - val_loss: 0.0992 - val_accuracy: 0.9700 - lr: 0.0010\n",
            "Epoch 14/80\n",
            "14/14 [==============================] - 3s 184ms/step - loss: 0.1709 - accuracy: 0.9474 - val_loss: 0.1060 - val_accuracy: 0.9700 - lr: 0.0010\n",
            "Epoch 15/80\n",
            "14/14 [==============================] - 3s 181ms/step - loss: 0.1672 - accuracy: 0.9474 - val_loss: 0.1106 - val_accuracy: 0.9750 - lr: 0.0010\n",
            "Epoch 16/80\n",
            "14/14 [==============================] - 3s 183ms/step - loss: 0.1487 - accuracy: 0.9497 - val_loss: 0.1000 - val_accuracy: 0.9750 - lr: 0.0010\n",
            "Epoch 17/80\n",
            "14/14 [==============================] - 3s 182ms/step - loss: 0.1385 - accuracy: 0.9543 - val_loss: 0.0997 - val_accuracy: 0.9850 - lr: 0.0010\n",
            "Epoch 18/80\n",
            "14/14 [==============================] - 3s 183ms/step - loss: 0.1278 - accuracy: 0.9620 - val_loss: 0.0864 - val_accuracy: 0.9850 - lr: 0.0010\n",
            "Epoch 19/80\n",
            "14/14 [==============================] - 3s 182ms/step - loss: 0.1113 - accuracy: 0.9614 - val_loss: 0.1012 - val_accuracy: 0.9800 - lr: 0.0010\n",
            "Epoch 20/80\n",
            "14/14 [==============================] - 3s 182ms/step - loss: 0.1116 - accuracy: 0.9649 - val_loss: 0.0969 - val_accuracy: 0.9850 - lr: 0.0010\n",
            "Epoch 21/80\n",
            "14/14 [==============================] - 3s 181ms/step - loss: 0.1042 - accuracy: 0.9666 - val_loss: 0.0932 - val_accuracy: 0.9850 - lr: 5.0000e-04\n",
            "Epoch 22/80\n",
            "14/14 [==============================] - 3s 182ms/step - loss: 0.0998 - accuracy: 0.9680 - val_loss: 0.0946 - val_accuracy: 0.9850 - lr: 5.0000e-04\n",
            "Epoch 23/80\n",
            "14/14 [==============================] - 3s 183ms/step - loss: 0.0898 - accuracy: 0.9700 - val_loss: 0.0975 - val_accuracy: 0.9850 - lr: 5.0000e-04\n",
            "Epoch 24/80\n",
            "14/14 [==============================] - 3s 184ms/step - loss: 0.0910 - accuracy: 0.9709 - val_loss: 0.0860 - val_accuracy: 0.9850 - lr: 5.0000e-04\n",
            "Epoch 25/80\n",
            "14/14 [==============================] - 3s 183ms/step - loss: 0.0821 - accuracy: 0.9714 - val_loss: 0.0861 - val_accuracy: 0.9850 - lr: 5.0000e-04\n",
            "Epoch 26/80\n",
            "14/14 [==============================] - 3s 184ms/step - loss: 0.0821 - accuracy: 0.9734 - val_loss: 0.0964 - val_accuracy: 0.9800 - lr: 5.0000e-04\n",
            "Epoch 27/80\n",
            "14/14 [==============================] - 3s 183ms/step - loss: 0.0781 - accuracy: 0.9760 - val_loss: 0.0841 - val_accuracy: 0.9850 - lr: 5.0000e-04\n",
            "Epoch 28/80\n",
            "14/14 [==============================] - 3s 184ms/step - loss: 0.0694 - accuracy: 0.9789 - val_loss: 0.0869 - val_accuracy: 0.9850 - lr: 5.0000e-04\n",
            "Epoch 29/80\n",
            "14/14 [==============================] - 3s 183ms/step - loss: 0.0808 - accuracy: 0.9711 - val_loss: 0.0931 - val_accuracy: 0.9800 - lr: 5.0000e-04\n",
            "Epoch 30/80\n",
            "14/14 [==============================] - 3s 183ms/step - loss: 0.0796 - accuracy: 0.9737 - val_loss: 0.0941 - val_accuracy: 0.9850 - lr: 5.0000e-04\n",
            "Epoch 31/80\n",
            "14/14 [==============================] - 3s 184ms/step - loss: 0.0773 - accuracy: 0.9743 - val_loss: 0.0796 - val_accuracy: 0.9850 - lr: 5.0000e-04\n",
            "Epoch 32/80\n",
            "14/14 [==============================] - 3s 183ms/step - loss: 0.0790 - accuracy: 0.9751 - val_loss: 0.0898 - val_accuracy: 0.9800 - lr: 5.0000e-04\n",
            "Epoch 33/80\n",
            "14/14 [==============================] - 3s 183ms/step - loss: 0.0637 - accuracy: 0.9789 - val_loss: 0.0843 - val_accuracy: 0.9850 - lr: 5.0000e-04\n",
            "Epoch 34/80\n",
            "14/14 [==============================] - 3s 184ms/step - loss: 0.0657 - accuracy: 0.9803 - val_loss: 0.0958 - val_accuracy: 0.9850 - lr: 5.0000e-04\n",
            "Epoch 35/80\n",
            "14/14 [==============================] - 3s 184ms/step - loss: 0.0615 - accuracy: 0.9786 - val_loss: 0.0859 - val_accuracy: 0.9800 - lr: 5.0000e-04\n",
            "Epoch 36/80\n",
            "14/14 [==============================] - 3s 186ms/step - loss: 0.0650 - accuracy: 0.9803 - val_loss: 0.0743 - val_accuracy: 0.9850 - lr: 5.0000e-04\n",
            "Epoch 37/80\n",
            "14/14 [==============================] - 3s 182ms/step - loss: 0.0576 - accuracy: 0.9823 - val_loss: 0.0954 - val_accuracy: 0.9800 - lr: 5.0000e-04\n",
            "Epoch 38/80\n",
            "14/14 [==============================] - 3s 183ms/step - loss: 0.0605 - accuracy: 0.9814 - val_loss: 0.0774 - val_accuracy: 0.9850 - lr: 5.0000e-04\n",
            "Epoch 39/80\n",
            "14/14 [==============================] - 3s 183ms/step - loss: 0.0542 - accuracy: 0.9820 - val_loss: 0.0970 - val_accuracy: 0.9800 - lr: 5.0000e-04\n",
            "Epoch 40/80\n",
            "14/14 [==============================] - 3s 184ms/step - loss: 0.0603 - accuracy: 0.9803 - val_loss: 0.0864 - val_accuracy: 0.9850 - lr: 5.0000e-04\n",
            "Epoch 41/80\n",
            "14/14 [==============================] - 3s 183ms/step - loss: 0.0547 - accuracy: 0.9823 - val_loss: 0.0954 - val_accuracy: 0.9850 - lr: 1.6667e-04\n",
            "Epoch 42/80\n",
            "14/14 [==============================] - 3s 184ms/step - loss: 0.0543 - accuracy: 0.9826 - val_loss: 0.0850 - val_accuracy: 0.9850 - lr: 1.6667e-04\n",
            "Epoch 43/80\n",
            "14/14 [==============================] - 3s 182ms/step - loss: 0.0450 - accuracy: 0.9871 - val_loss: 0.0916 - val_accuracy: 0.9850 - lr: 1.6667e-04\n",
            "Epoch 44/80\n",
            "14/14 [==============================] - 3s 184ms/step - loss: 0.0489 - accuracy: 0.9851 - val_loss: 0.0847 - val_accuracy: 0.9850 - lr: 1.6667e-04\n",
            "Epoch 45/80\n",
            "14/14 [==============================] - 3s 183ms/step - loss: 0.0448 - accuracy: 0.9869 - val_loss: 0.0866 - val_accuracy: 0.9850 - lr: 1.6667e-04\n",
            "Epoch 46/80\n",
            "14/14 [==============================] - 3s 183ms/step - loss: 0.0470 - accuracy: 0.9854 - val_loss: 0.0890 - val_accuracy: 0.9850 - lr: 1.6667e-04\n",
            "Epoch 47/80\n",
            "14/14 [==============================] - 3s 184ms/step - loss: 0.0459 - accuracy: 0.9871 - val_loss: 0.0872 - val_accuracy: 0.9850 - lr: 1.6667e-04\n",
            "Epoch 48/80\n",
            "14/14 [==============================] - 3s 186ms/step - loss: 0.0494 - accuracy: 0.9843 - val_loss: 0.0831 - val_accuracy: 0.9850 - lr: 1.6667e-04\n",
            "Epoch 49/80\n",
            "14/14 [==============================] - 3s 184ms/step - loss: 0.0479 - accuracy: 0.9846 - val_loss: 0.0869 - val_accuracy: 0.9850 - lr: 1.6667e-04\n",
            "Epoch 50/80\n",
            "14/14 [==============================] - 3s 186ms/step - loss: 0.0468 - accuracy: 0.9851 - val_loss: 0.0831 - val_accuracy: 0.9850 - lr: 1.6667e-04\n",
            "Epoch 51/80\n",
            "14/14 [==============================] - 3s 183ms/step - loss: 0.0466 - accuracy: 0.9849 - val_loss: 0.0892 - val_accuracy: 0.9850 - lr: 1.6667e-04\n",
            "Epoch 52/80\n",
            "14/14 [==============================] - 3s 185ms/step - loss: 0.0435 - accuracy: 0.9857 - val_loss: 0.0898 - val_accuracy: 0.9850 - lr: 1.6667e-04\n",
            "Epoch 53/80\n",
            "14/14 [==============================] - 3s 184ms/step - loss: 0.0413 - accuracy: 0.9877 - val_loss: 0.0864 - val_accuracy: 0.9850 - lr: 1.6667e-04\n",
            "Epoch 54/80\n",
            "14/14 [==============================] - 3s 183ms/step - loss: 0.0380 - accuracy: 0.9909 - val_loss: 0.0839 - val_accuracy: 0.9850 - lr: 1.6667e-04\n",
            "Epoch 55/80\n",
            "14/14 [==============================] - 3s 184ms/step - loss: 0.0397 - accuracy: 0.9877 - val_loss: 0.0845 - val_accuracy: 0.9850 - lr: 1.6667e-04\n",
            "Epoch 56/80\n",
            "14/14 [==============================] - 3s 183ms/step - loss: 0.0447 - accuracy: 0.9857 - val_loss: 0.0879 - val_accuracy: 0.9850 - lr: 1.6667e-04\n",
            "Epoch 57/80\n",
            "14/14 [==============================] - 3s 183ms/step - loss: 0.0467 - accuracy: 0.9860 - val_loss: 0.0905 - val_accuracy: 0.9850 - lr: 1.6667e-04\n",
            "Epoch 58/80\n",
            "14/14 [==============================] - 3s 184ms/step - loss: 0.0413 - accuracy: 0.9866 - val_loss: 0.0869 - val_accuracy: 0.9850 - lr: 1.6667e-04\n",
            "Epoch 59/80\n",
            "14/14 [==============================] - 3s 185ms/step - loss: 0.0419 - accuracy: 0.9857 - val_loss: 0.0881 - val_accuracy: 0.9850 - lr: 1.6667e-04\n",
            "Epoch 60/80\n",
            "14/14 [==============================] - 3s 184ms/step - loss: 0.0412 - accuracy: 0.9857 - val_loss: 0.0867 - val_accuracy: 0.9850 - lr: 1.6667e-04\n",
            "Epoch 61/80\n",
            "14/14 [==============================] - 3s 182ms/step - loss: 0.0437 - accuracy: 0.9854 - val_loss: 0.0865 - val_accuracy: 0.9850 - lr: 4.1667e-05\n",
            "Epoch 62/80\n",
            "14/14 [==============================] - 3s 183ms/step - loss: 0.0392 - accuracy: 0.9869 - val_loss: 0.0875 - val_accuracy: 0.9850 - lr: 4.1667e-05\n",
            "Epoch 63/80\n",
            "14/14 [==============================] - 3s 183ms/step - loss: 0.0377 - accuracy: 0.9903 - val_loss: 0.0884 - val_accuracy: 0.9850 - lr: 4.1667e-05\n",
            "Epoch 64/80\n",
            "14/14 [==============================] - 3s 182ms/step - loss: 0.0380 - accuracy: 0.9889 - val_loss: 0.0897 - val_accuracy: 0.9850 - lr: 4.1667e-05\n",
            "Epoch 65/80\n",
            "14/14 [==============================] - 3s 185ms/step - loss: 0.0356 - accuracy: 0.9897 - val_loss: 0.0902 - val_accuracy: 0.9850 - lr: 4.1667e-05\n",
            "Epoch 66/80\n",
            "14/14 [==============================] - 3s 183ms/step - loss: 0.0368 - accuracy: 0.9883 - val_loss: 0.0899 - val_accuracy: 0.9850 - lr: 4.1667e-05\n",
            "Epoch 67/80\n",
            "14/14 [==============================] - 3s 184ms/step - loss: 0.0413 - accuracy: 0.9874 - val_loss: 0.0890 - val_accuracy: 0.9850 - lr: 4.1667e-05\n",
            "Epoch 68/80\n",
            "14/14 [==============================] - 3s 183ms/step - loss: 0.0375 - accuracy: 0.9877 - val_loss: 0.0907 - val_accuracy: 0.9850 - lr: 4.1667e-05\n",
            "Epoch 69/80\n",
            "14/14 [==============================] - 3s 184ms/step - loss: 0.0428 - accuracy: 0.9874 - val_loss: 0.0878 - val_accuracy: 0.9850 - lr: 4.1667e-05\n",
            "Epoch 70/80\n",
            "14/14 [==============================] - 3s 184ms/step - loss: 0.0371 - accuracy: 0.9883 - val_loss: 0.0851 - val_accuracy: 0.9850 - lr: 4.1667e-05\n",
            "Epoch 71/80\n",
            "14/14 [==============================] - 3s 184ms/step - loss: 0.0370 - accuracy: 0.9897 - val_loss: 0.0845 - val_accuracy: 0.9850 - lr: 4.1667e-05\n",
            "Epoch 72/80\n",
            "14/14 [==============================] - 3s 184ms/step - loss: 0.0378 - accuracy: 0.9903 - val_loss: 0.0861 - val_accuracy: 0.9850 - lr: 4.1667e-05\n",
            "Epoch 73/80\n",
            "14/14 [==============================] - 3s 185ms/step - loss: 0.0342 - accuracy: 0.9897 - val_loss: 0.0862 - val_accuracy: 0.9850 - lr: 4.1667e-05\n",
            "Epoch 74/80\n",
            "14/14 [==============================] - 3s 184ms/step - loss: 0.0349 - accuracy: 0.9889 - val_loss: 0.0872 - val_accuracy: 0.9850 - lr: 4.1667e-05\n",
            "Epoch 75/80\n",
            "14/14 [==============================] - 3s 184ms/step - loss: 0.0378 - accuracy: 0.9880 - val_loss: 0.0879 - val_accuracy: 0.9850 - lr: 4.1667e-05\n",
            "Epoch 76/80\n",
            "14/14 [==============================] - 3s 184ms/step - loss: 0.0363 - accuracy: 0.9886 - val_loss: 0.0873 - val_accuracy: 0.9850 - lr: 4.1667e-05\n",
            "Epoch 77/80\n",
            "14/14 [==============================] - 3s 183ms/step - loss: 0.0374 - accuracy: 0.9877 - val_loss: 0.0867 - val_accuracy: 0.9850 - lr: 4.1667e-05\n",
            "Epoch 78/80\n",
            "14/14 [==============================] - 3s 182ms/step - loss: 0.0366 - accuracy: 0.9906 - val_loss: 0.0878 - val_accuracy: 0.9850 - lr: 4.1667e-05\n",
            "Epoch 79/80\n",
            "14/14 [==============================] - 3s 183ms/step - loss: 0.0392 - accuracy: 0.9883 - val_loss: 0.0882 - val_accuracy: 0.9850 - lr: 4.1667e-05\n",
            "Epoch 80/80\n",
            "14/14 [==============================] - 3s 184ms/step - loss: 0.0359 - accuracy: 0.9877 - val_loss: 0.0880 - val_accuracy: 0.9850 - lr: 4.1667e-05\n"
          ]
        }
      ]
    },
    {
      "cell_type": "code",
      "source": [
        "import pandas as pd\n",
        "history_df = pd.DataFrame(optimize_history.history)\n",
        "history_df.loc[:, history_df.columns.difference(['lr'])].plot()"
      ],
      "metadata": {
        "colab": {
          "base_uri": "https://localhost:8080/",
          "height": 282
        },
        "id": "d9UYhink6CMy",
        "outputId": "0697cc30-be08-4b33-cb0a-e412cf4780be"
      },
      "execution_count": 54,
      "outputs": [
        {
          "output_type": "execute_result",
          "data": {
            "text/plain": [
              "<matplotlib.axes._subplots.AxesSubplot at 0x7f960ca85f50>"
            ]
          },
          "metadata": {},
          "execution_count": 54
        },
        {
          "output_type": "display_data",
          "data": {
            "image/png": "[encoded data removed]",
            "text/plain": [
              "<Figure size 432x288 with 1 Axes>"
            ]
          },
          "metadata": {
            "needs_background": "light"
          }
        }
      ]
    },
    {
      "cell_type": "code",
      "source": [
        ""
      ],
      "metadata": {
        "id": "P83TO45TJJun"
      },
      "execution_count": null,
      "outputs": []
    }
  ]
}