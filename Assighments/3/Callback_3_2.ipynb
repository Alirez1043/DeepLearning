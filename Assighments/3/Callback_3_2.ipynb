{
  "nbformat": 4,
  "nbformat_minor": 0,
  "metadata": {
    "colab": {
      "name": "Callback_3_2.ipynb",
      "provenance": [],
      "collapsed_sections": [],
      "toc_visible": true,
      "authorship_tag": "ABX9TyP88jGKP+WcS0cB3yHMI2I/",
      "include_colab_link": true
    },
    "kernelspec": {
      "name": "python3",
      "display_name": "Python 3"
    },
    "language_info": {
      "name": "python"
    },
    "accelerator": "GPU"
  },
  "cells": [
    {
      "cell_type": "markdown",
      "metadata": {
        "id": "view-in-github",
        "colab_type": "text"
      },
      "source": [
        "<a href=\"https://colab.research.google.com/github/Alirez1043/DeepLearning/blob/main/Assighments/3/Callback_3_2.ipynb\" target=\"_parent\"><img src=\"https://colab.research.google.com/assets/colab-badge.svg\" alt=\"Open In Colab\"/></a>"
      ]
    },
    {
      "cell_type": "markdown",
      "source": [
        "# **Download dataset**"
      ],
      "metadata": {
        "id": "Kt7UNo9mmt0g"
      }
    },
    {
      "cell_type": "code",
      "execution_count": 1,
      "metadata": {
        "colab": {
          "base_uri": "https://localhost:8080/"
        },
        "id": "-88Bk9jUme8x",
        "outputId": "621d95ba-ca3c-47a7-d3fd-f83be04e0ebc"
      },
      "outputs": [
        {
          "output_type": "stream",
          "name": "stdout",
          "text": [
            "--2022-03-02 11:55:40--  https://raw.githubusercontent.com/Alireza-Akhavan/SRU-deeplearning-workshop/master/dataset.py\n",
            "Resolving raw.githubusercontent.com (raw.githubusercontent.com)... 185.199.111.133, 185.199.110.133, 185.199.108.133, ...\n",
            "Connecting to raw.githubusercontent.com (raw.githubusercontent.com)|185.199.111.133|:443... connected.\n",
            "HTTP request sent, awaiting response... 200 OK\n",
            "Length: 929 [text/plain]\n",
            "Saving to: ‘dataset.py’\n",
            "\n",
            "\rdataset.py            0%[                    ]       0  --.-KB/s               \rdataset.py          100%[===================>]     929  --.-KB/s    in 0s      \n",
            "\n",
            "2022-03-02 11:55:40 (26.2 MB/s) - ‘dataset.py’ saved [929/929]\n",
            "\n",
            "--2022-03-02 11:55:40--  https://github.com/Alireza-Akhavan/SRU-deeplearning-workshop/raw/master/dataset/Data_hoda_full.mat\n",
            "Resolving github.com (github.com)... 140.82.121.4\n",
            "Connecting to github.com (github.com)|140.82.121.4|:443... connected.\n",
            "HTTP request sent, awaiting response... 302 Found\n",
            "Location: https://raw.githubusercontent.com/Alireza-Akhavan/SRU-deeplearning-workshop/master/dataset/Data_hoda_full.mat [following]\n",
            "--2022-03-02 11:55:41--  https://raw.githubusercontent.com/Alireza-Akhavan/SRU-deeplearning-workshop/master/dataset/Data_hoda_full.mat\n",
            "Resolving raw.githubusercontent.com (raw.githubusercontent.com)... 185.199.108.133, 185.199.109.133, 185.199.110.133, ...\n",
            "Connecting to raw.githubusercontent.com (raw.githubusercontent.com)|185.199.108.133|:443... connected.\n",
            "HTTP request sent, awaiting response... 200 OK\n",
            "Length: 3989009 (3.8M) [application/octet-stream]\n",
            "Saving to: ‘dataset/Data_hoda_full.mat’\n",
            "\n",
            "Data_hoda_full.mat  100%[===================>]   3.80M  --.-KB/s    in 0.03s   \n",
            "\n",
            "2022-03-02 11:55:41 (113 MB/s) - ‘dataset/Data_hoda_full.mat’ saved [3989009/3989009]\n",
            "\n"
          ]
        }
      ],
      "source": [
        "!wget https://raw.githubusercontent.com/Alireza-Akhavan/SRU-deeplearning-workshop/master/dataset.py\n",
        "!mkdir dataset\n",
        "!wget https://github.com/Alireza-Akhavan/SRU-deeplearning-workshop/raw/master/dataset/Data_hoda_full.mat -P dataset"
      ]
    },
    {
      "cell_type": "markdown",
      "source": [
        "Download Learning Rate Finder source file from github"
      ],
      "metadata": {
        "id": "O_i6cxgaB9Cm"
      }
    },
    {
      "cell_type": "code",
      "source": [
        "!wget https://raw.githubusercontent.com/Alireza-Akhavan/tf2-tutorial/master/callbacks/learningratefinder.py "
      ],
      "metadata": {
        "colab": {
          "base_uri": "https://localhost:8080/"
        },
        "id": "qyUXcxzHCCL-",
        "outputId": "0410a760-476b-4428-8ea9-4d9389ad1d15"
      },
      "execution_count": 2,
      "outputs": [
        {
          "output_type": "stream",
          "name": "stdout",
          "text": [
            "--2022-03-02 11:55:43--  https://raw.githubusercontent.com/Alireza-Akhavan/tf2-tutorial/master/callbacks/learningratefinder.py\n",
            "Resolving raw.githubusercontent.com (raw.githubusercontent.com)... 185.199.109.133, 185.199.111.133, 185.199.110.133, ...\n",
            "Connecting to raw.githubusercontent.com (raw.githubusercontent.com)|185.199.109.133|:443... connected.\n",
            "HTTP request sent, awaiting response... 200 OK\n",
            "Length: 5439 (5.3K) [text/plain]\n",
            "Saving to: ‘learningratefinder.py’\n",
            "\n",
            "\rlearningratefinder.   0%[                    ]       0  --.-KB/s               \rlearningratefinder. 100%[===================>]   5.31K  --.-KB/s    in 0s      \n",
            "\n",
            "2022-03-02 11:55:43 (42.0 MB/s) - ‘learningratefinder.py’ saved [5439/5439]\n",
            "\n"
          ]
        }
      ]
    },
    {
      "cell_type": "markdown",
      "source": [
        "# **Import Libararies**"
      ],
      "metadata": {
        "id": "IqjcBAQhn1JK"
      }
    },
    {
      "cell_type": "code",
      "source": [
        "!pip install -q -U tensorflow_addons\n",
        "import tensorflow_addons as tfa\n",
        "import tensorflow as tf\n",
        "from tensorflow import keras\n",
        "from keras import layers\n",
        "from keras.layers.convolutional import Conv2D\n",
        "from keras.layers.pooling import MaxPooling2D\n",
        "from keras.models import Model\n",
        "from keras.layers.core import Dropout\n",
        "from keras.callbacks import TensorBoard\n",
        "import datetime\n",
        "import numpy as np\n",
        "from dataset import load_hoda\n",
        "from learningratefinder import LearningRateFinder\n",
        "import matplotlib.pyplot as plt\n",
        "import os\n"
      ],
      "metadata": {
        "id": "6dpG-plimytM",
        "colab": {
          "base_uri": "https://localhost:8080/"
        },
        "outputId": "01f14b16-0ff2-47be-a273-7b2779461238"
      },
      "execution_count": 3,
      "outputs": [
        {
          "output_type": "stream",
          "name": "stdout",
          "text": [
            "\u001b[?25l\r\u001b[K     |▎                               | 10 kB 18.4 MB/s eta 0:00:01\r\u001b[K     |▋                               | 20 kB 23.6 MB/s eta 0:00:01\r\u001b[K     |▉                               | 30 kB 27.4 MB/s eta 0:00:01\r\u001b[K     |█▏                              | 40 kB 15.3 MB/s eta 0:00:01\r\u001b[K     |█▌                              | 51 kB 14.0 MB/s eta 0:00:01\r\u001b[K     |█▊                              | 61 kB 16.1 MB/s eta 0:00:01\r\u001b[K     |██                              | 71 kB 12.6 MB/s eta 0:00:01\r\u001b[K     |██▍                             | 81 kB 11.7 MB/s eta 0:00:01\r\u001b[K     |██▋                             | 92 kB 12.9 MB/s eta 0:00:01\r\u001b[K     |███                             | 102 kB 13.6 MB/s eta 0:00:01\r\u001b[K     |███▏                            | 112 kB 13.6 MB/s eta 0:00:01\r\u001b[K     |███▌                            | 122 kB 13.6 MB/s eta 0:00:01\r\u001b[K     |███▉                            | 133 kB 13.6 MB/s eta 0:00:01\r\u001b[K     |████                            | 143 kB 13.6 MB/s eta 0:00:01\r\u001b[K     |████▍                           | 153 kB 13.6 MB/s eta 0:00:01\r\u001b[K     |████▊                           | 163 kB 13.6 MB/s eta 0:00:01\r\u001b[K     |█████                           | 174 kB 13.6 MB/s eta 0:00:01\r\u001b[K     |█████▎                          | 184 kB 13.6 MB/s eta 0:00:01\r\u001b[K     |█████▌                          | 194 kB 13.6 MB/s eta 0:00:01\r\u001b[K     |█████▉                          | 204 kB 13.6 MB/s eta 0:00:01\r\u001b[K     |██████▏                         | 215 kB 13.6 MB/s eta 0:00:01\r\u001b[K     |██████▍                         | 225 kB 13.6 MB/s eta 0:00:01\r\u001b[K     |██████▊                         | 235 kB 13.6 MB/s eta 0:00:01\r\u001b[K     |███████                         | 245 kB 13.6 MB/s eta 0:00:01\r\u001b[K     |███████▎                        | 256 kB 13.6 MB/s eta 0:00:01\r\u001b[K     |███████▋                        | 266 kB 13.6 MB/s eta 0:00:01\r\u001b[K     |███████▉                        | 276 kB 13.6 MB/s eta 0:00:01\r\u001b[K     |████████▏                       | 286 kB 13.6 MB/s eta 0:00:01\r\u001b[K     |████████▌                       | 296 kB 13.6 MB/s eta 0:00:01\r\u001b[K     |████████▊                       | 307 kB 13.6 MB/s eta 0:00:01\r\u001b[K     |█████████                       | 317 kB 13.6 MB/s eta 0:00:01\r\u001b[K     |█████████▍                      | 327 kB 13.6 MB/s eta 0:00:01\r\u001b[K     |█████████▋                      | 337 kB 13.6 MB/s eta 0:00:01\r\u001b[K     |██████████                      | 348 kB 13.6 MB/s eta 0:00:01\r\u001b[K     |██████████▏                     | 358 kB 13.6 MB/s eta 0:00:01\r\u001b[K     |██████████▌                     | 368 kB 13.6 MB/s eta 0:00:01\r\u001b[K     |██████████▉                     | 378 kB 13.6 MB/s eta 0:00:01\r\u001b[K     |███████████                     | 389 kB 13.6 MB/s eta 0:00:01\r\u001b[K     |███████████▍                    | 399 kB 13.6 MB/s eta 0:00:01\r\u001b[K     |███████████▊                    | 409 kB 13.6 MB/s eta 0:00:01\r\u001b[K     |████████████                    | 419 kB 13.6 MB/s eta 0:00:01\r\u001b[K     |████████████▎                   | 430 kB 13.6 MB/s eta 0:00:01\r\u001b[K     |████████████▌                   | 440 kB 13.6 MB/s eta 0:00:01\r\u001b[K     |████████████▉                   | 450 kB 13.6 MB/s eta 0:00:01\r\u001b[K     |█████████████▏                  | 460 kB 13.6 MB/s eta 0:00:01\r\u001b[K     |█████████████▍                  | 471 kB 13.6 MB/s eta 0:00:01\r\u001b[K     |█████████████▊                  | 481 kB 13.6 MB/s eta 0:00:01\r\u001b[K     |██████████████                  | 491 kB 13.6 MB/s eta 0:00:01\r\u001b[K     |██████████████▎                 | 501 kB 13.6 MB/s eta 0:00:01\r\u001b[K     |██████████████▋                 | 512 kB 13.6 MB/s eta 0:00:01\r\u001b[K     |██████████████▉                 | 522 kB 13.6 MB/s eta 0:00:01\r\u001b[K     |███████████████▏                | 532 kB 13.6 MB/s eta 0:00:01\r\u001b[K     |███████████████▌                | 542 kB 13.6 MB/s eta 0:00:01\r\u001b[K     |███████████████▊                | 552 kB 13.6 MB/s eta 0:00:01\r\u001b[K     |████████████████                | 563 kB 13.6 MB/s eta 0:00:01\r\u001b[K     |████████████████▍               | 573 kB 13.6 MB/s eta 0:00:01\r\u001b[K     |████████████████▋               | 583 kB 13.6 MB/s eta 0:00:01\r\u001b[K     |█████████████████               | 593 kB 13.6 MB/s eta 0:00:01\r\u001b[K     |█████████████████▏              | 604 kB 13.6 MB/s eta 0:00:01\r\u001b[K     |█████████████████▌              | 614 kB 13.6 MB/s eta 0:00:01\r\u001b[K     |█████████████████▉              | 624 kB 13.6 MB/s eta 0:00:01\r\u001b[K     |██████████████████              | 634 kB 13.6 MB/s eta 0:00:01\r\u001b[K     |██████████████████▍             | 645 kB 13.6 MB/s eta 0:00:01\r\u001b[K     |██████████████████▊             | 655 kB 13.6 MB/s eta 0:00:01\r\u001b[K     |███████████████████             | 665 kB 13.6 MB/s eta 0:00:01\r\u001b[K     |███████████████████▎            | 675 kB 13.6 MB/s eta 0:00:01\r\u001b[K     |███████████████████▌            | 686 kB 13.6 MB/s eta 0:00:01\r\u001b[K     |███████████████████▉            | 696 kB 13.6 MB/s eta 0:00:01\r\u001b[K     |████████████████████▏           | 706 kB 13.6 MB/s eta 0:00:01\r\u001b[K     |████████████████████▍           | 716 kB 13.6 MB/s eta 0:00:01\r\u001b[K     |████████████████████▊           | 727 kB 13.6 MB/s eta 0:00:01\r\u001b[K     |█████████████████████           | 737 kB 13.6 MB/s eta 0:00:01\r\u001b[K     |█████████████████████▎          | 747 kB 13.6 MB/s eta 0:00:01\r\u001b[K     |█████████████████████▋          | 757 kB 13.6 MB/s eta 0:00:01\r\u001b[K     |█████████████████████▉          | 768 kB 13.6 MB/s eta 0:00:01\r\u001b[K     |██████████████████████▏         | 778 kB 13.6 MB/s eta 0:00:01\r\u001b[K     |██████████████████████▌         | 788 kB 13.6 MB/s eta 0:00:01\r\u001b[K     |██████████████████████▊         | 798 kB 13.6 MB/s eta 0:00:01\r\u001b[K     |███████████████████████         | 808 kB 13.6 MB/s eta 0:00:01\r\u001b[K     |███████████████████████▍        | 819 kB 13.6 MB/s eta 0:00:01\r\u001b[K     |███████████████████████▋        | 829 kB 13.6 MB/s eta 0:00:01\r\u001b[K     |████████████████████████        | 839 kB 13.6 MB/s eta 0:00:01\r\u001b[K     |████████████████████████▏       | 849 kB 13.6 MB/s eta 0:00:01\r\u001b[K     |████████████████████████▌       | 860 kB 13.6 MB/s eta 0:00:01\r\u001b[K     |████████████████████████▉       | 870 kB 13.6 MB/s eta 0:00:01\r\u001b[K     |█████████████████████████       | 880 kB 13.6 MB/s eta 0:00:01\r\u001b[K     |█████████████████████████▍      | 890 kB 13.6 MB/s eta 0:00:01\r\u001b[K     |█████████████████████████▊      | 901 kB 13.6 MB/s eta 0:00:01\r\u001b[K     |██████████████████████████      | 911 kB 13.6 MB/s eta 0:00:01\r\u001b[K     |██████████████████████████▎     | 921 kB 13.6 MB/s eta 0:00:01\r\u001b[K     |██████████████████████████▌     | 931 kB 13.6 MB/s eta 0:00:01\r\u001b[K     |██████████████████████████▉     | 942 kB 13.6 MB/s eta 0:00:01\r\u001b[K     |███████████████████████████▏    | 952 kB 13.6 MB/s eta 0:00:01\r\u001b[K     |███████████████████████████▍    | 962 kB 13.6 MB/s eta 0:00:01\r\u001b[K     |███████████████████████████▊    | 972 kB 13.6 MB/s eta 0:00:01\r\u001b[K     |████████████████████████████    | 983 kB 13.6 MB/s eta 0:00:01\r\u001b[K     |████████████████████████████▎   | 993 kB 13.6 MB/s eta 0:00:01\r\u001b[K     |████████████████████████████▋   | 1.0 MB 13.6 MB/s eta 0:00:01\r\u001b[K     |████████████████████████████▉   | 1.0 MB 13.6 MB/s eta 0:00:01\r\u001b[K     |█████████████████████████████▏  | 1.0 MB 13.6 MB/s eta 0:00:01\r\u001b[K     |█████████████████████████████▌  | 1.0 MB 13.6 MB/s eta 0:00:01\r\u001b[K     |█████████████████████████████▊  | 1.0 MB 13.6 MB/s eta 0:00:01\r\u001b[K     |██████████████████████████████  | 1.1 MB 13.6 MB/s eta 0:00:01\r\u001b[K     |██████████████████████████████▍ | 1.1 MB 13.6 MB/s eta 0:00:01\r\u001b[K     |██████████████████████████████▋ | 1.1 MB 13.6 MB/s eta 0:00:01\r\u001b[K     |███████████████████████████████ | 1.1 MB 13.6 MB/s eta 0:00:01\r\u001b[K     |███████████████████████████████▏| 1.1 MB 13.6 MB/s eta 0:00:01\r\u001b[K     |███████████████████████████████▌| 1.1 MB 13.6 MB/s eta 0:00:01\r\u001b[K     |███████████████████████████████▉| 1.1 MB 13.6 MB/s eta 0:00:01\r\u001b[K     |████████████████████████████████| 1.1 MB 13.6 MB/s \n",
            "\u001b[?25h"
          ]
        }
      ]
    },
    {
      "cell_type": "markdown",
      "source": [
        "# **Prepare Data**"
      ],
      "metadata": {
        "id": "V0DgR7Mbqs2C"
      }
    },
    {
      "cell_type": "code",
      "source": [
        "# Load pre-shuffled HODA data into train and test sets\n",
        "x_train_original, y_train_original, x_test_original, y_test_original = load_hoda(\n",
        "                                                                        training_sample_size=3500,\n",
        "                                                                        test_sample_size=400,size=28)\n",
        "\n",
        "# Preprocess input data\n",
        "''' 3.1: input data in numpy array format'''\n",
        "x_train = np.array(x_train_original)\n",
        "x_test = np.array(x_test_original)\n",
        "'''3.2 normalize our data values to the range [0, 1]'''\n",
        "x_train = x_train.astype('float32')\n",
        "x_test = x_test.astype('float32')\n",
        "x_train /= 255\n",
        "x_test /= 255\n",
        "\n",
        "Image_Height = Image_Width = 28\n",
        "Image_Channels = 1\n",
        "\n",
        "# Reshape to original image shape (n x 784)  ==> (n x 28 x 28 x 1)\n",
        "x_train = x_train.reshape(-1 , Image_Height , Image_Width , Image_Channels )\n",
        "x_test = x_test.reshape(-1 , Image_Height , Image_Width , Image_Channels )\n",
        "\n",
        "\n",
        "# 4. Preprocess class labels\n",
        "y_train = keras.utils.to_categorical(y_train_original, num_classes=10)\n",
        "y_test = keras.utils.to_categorical(y_test_original, num_classes=10)\n",
        "\n",
        "\n",
        "# test and validation set\n",
        "x_val = x_test[:200]\n",
        "x_test = x_test[200:]\n",
        "y_val = y_test[:200]\n",
        "y_test = y_test[200:]"
      ],
      "metadata": {
        "id": "nX00LHJoqfpC"
      },
      "execution_count": 4,
      "outputs": []
    },
    {
      "cell_type": "markdown",
      "source": [
        "# **Make Model Architecture**"
      ],
      "metadata": {
        "id": "QrqcnILmrAhx"
      }
    },
    {
      "cell_type": "code",
      "source": [
        "def get_training_model():\n",
        "    input_ = layers.Input(shape = x_train.shape[1:] ,name = 'input')\n",
        "    conv1 = Conv2D(32 ,(3,3) ,activation = 'relu')(input_)\n",
        "    pool1 = MaxPooling2D((2,2))(conv1)\n",
        "    conv2 = Conv2D(64 ,(3,3) ,activation = 'relu')(pool1)\n",
        "    pool2 = MaxPooling2D((2,2))(conv2)\n",
        "    conv3 = Conv2D(64 ,(3,3) ,activation = 'relu')(pool2)\n",
        "    flatten = layers.Flatten()(conv3)\n",
        "    D1 = layers.Dense(64 ,activation = 'relu')(flatten)\n",
        "    D1  = Dropout(0.5)(D1)\n",
        "    output = keras.layers.Dense(10 ,activation = 'softmax' ,name = 'output')(D1)\n",
        "\n",
        "    return keras.models.Model(inputs=input_ , outputs=output)"
      ],
      "metadata": {
        "id": "2Pp6GfY0q0eU"
      },
      "execution_count": 5,
      "outputs": []
    },
    {
      "cell_type": "code",
      "source": [
        "# Compile model\n",
        "standard_model = get_training_model()\n",
        "standard_model.compile(loss='categorical_crossentropy',\n",
        "              optimizer=keras.optimizers.SGD(learning_rate=1e-4 ,momentum=0.9),\n",
        "              metrics=['accuracy'])"
      ],
      "metadata": {
        "id": "BlQ6Pgf_3NeX"
      },
      "execution_count": 29,
      "outputs": []
    },
    {
      "cell_type": "code",
      "source": [
        "# initialize the learning rate finder and then train with learning\n",
        "# rates ranging from 1e-10 to 1e+1\n",
        "lrf = LearningRateFinder(standard_model)\n",
        "lrf.find((x_train, y_train),1e-10, 1e+1)\n",
        "# plot the loss for the various learning rates and save the\n",
        "# resulting plot to disk\n",
        "lrf.plot_loss()"
      ],
      "metadata": {
        "colab": {
          "base_uri": "https://localhost:8080/",
          "height": 873
        },
        "id": "nT7AcYNLFoZZ",
        "outputId": "5fb534c6-3926-4557-8656-bcfd820a7e64"
      },
      "execution_count": 30,
      "outputs": [
        {
          "output_type": "stream",
          "name": "stdout",
          "text": [
            "Epoch 1/19\n",
            "110/110 [==============================] - 1s 8ms/step - loss: 2.2918 - accuracy: 0.1337\n",
            "Epoch 2/19\n",
            "110/110 [==============================] - 1s 8ms/step - loss: 2.2930 - accuracy: 0.1363\n",
            "Epoch 3/19\n",
            "110/110 [==============================] - 1s 8ms/step - loss: 2.2917 - accuracy: 0.1297\n",
            "Epoch 4/19\n",
            "110/110 [==============================] - 1s 8ms/step - loss: 2.2936 - accuracy: 0.1343\n",
            "Epoch 5/19\n",
            "110/110 [==============================] - 1s 8ms/step - loss: 2.2890 - accuracy: 0.1543\n",
            "Epoch 6/19\n",
            "110/110 [==============================] - 1s 7ms/step - loss: 2.2892 - accuracy: 0.1449\n",
            "Epoch 7/19\n",
            "110/110 [==============================] - 1s 8ms/step - loss: 2.2907 - accuracy: 0.1389\n",
            "Epoch 8/19\n",
            "110/110 [==============================] - 1s 8ms/step - loss: 2.2901 - accuracy: 0.1363\n",
            "Epoch 9/19\n",
            "110/110 [==============================] - 1s 8ms/step - loss: 2.2912 - accuracy: 0.1409\n",
            "Epoch 10/19\n",
            "110/110 [==============================] - 1s 8ms/step - loss: 2.2864 - accuracy: 0.1480\n",
            "Epoch 11/19\n",
            "110/110 [==============================] - 1s 8ms/step - loss: 2.2725 - accuracy: 0.1677\n",
            "Epoch 12/19\n",
            "110/110 [==============================] - 1s 8ms/step - loss: 2.2321 - accuracy: 0.2337\n",
            "Epoch 13/19\n",
            "110/110 [==============================] - 1s 8ms/step - loss: 1.8574 - accuracy: 0.3946\n",
            "Epoch 14/19\n",
            "110/110 [==============================] - 1s 8ms/step - loss: 0.9834 - accuracy: 0.6606\n",
            "Epoch 15/19\n",
            "110/110 [==============================] - 1s 8ms/step - loss: 0.6581 - accuracy: 0.7791\n",
            "Epoch 16/19\n",
            "110/110 [==============================] - 1s 8ms/step - loss: 1.0556 - accuracy: 0.7220\n",
            "Epoch 17/19\n",
            "110/110 [==============================] - 0s 109us/step - loss: 201.4109 - accuracy: 0.1562\n"
          ]
        },
        {
          "output_type": "display_data",
          "data": {
            "image/png": "[encoded data removed]",
            "text/plain": [
              "<Figure size 432x288 with 1 Axes>"
            ]
          },
          "metadata": {
            "needs_background": "light"
          }
        }
      ]
    },
    {
      "cell_type": "markdown",
      "source": [
        "# **Define hyperparameters**"
      ],
      "metadata": {
        "id": "816YOQn0Gm80"
      }
    },
    {
      "cell_type": "code",
      "source": [
        "BATCH_SIZE = 256\n",
        "EPOCHS = 20\n",
        "INIT_LR = 1e-3\n",
        "MAX_LR = 1e-1"
      ],
      "metadata": {
        "id": "SMhvFN7HGpKz"
      },
      "execution_count": 31,
      "outputs": []
    },
    {
      "cell_type": "markdown",
      "source": [
        "# Train a model without Cyclical Learning Rates (CLRs)"
      ],
      "metadata": {
        "id": "zPgZyckSHvoA"
      }
    },
    {
      "cell_type": "code",
      "source": [
        "def train_model(model, optimizer):\n",
        "    model.compile(loss=\"categorical_crossentropy\", optimizer=optimizer,\n",
        "                       metrics=[\"accuracy\"])\n",
        "    history = model.fit(x_train,\n",
        "        y_train,\n",
        "        batch_size=BATCH_SIZE,\n",
        "        validation_data=(x_val, y_val),\n",
        "        epochs=EPOCHS)\n",
        "    return history"
      ],
      "metadata": {
        "id": "R-yYyslDIIKJ"
      },
      "execution_count": 32,
      "outputs": []
    },
    {
      "cell_type": "code",
      "source": [
        "standard_model = get_training_model()\n",
        "no_clr_history = train_model(standard_model, optimizer=\"sgd\")"
      ],
      "metadata": {
        "id": "FbTDUD6HH2Y9",
        "outputId": "c3c0ff52-05ce-49a5-a8ab-0f1fea4780f5",
        "colab": {
          "base_uri": "https://localhost:8080/"
        }
      },
      "execution_count": 33,
      "outputs": [
        {
          "output_type": "stream",
          "name": "stdout",
          "text": [
            "Epoch 1/20\n",
            "14/14 [==============================] - 1s 32ms/step - loss: 2.2972 - accuracy: 0.1049 - val_loss: 2.2870 - val_accuracy: 0.1250\n",
            "Epoch 2/20\n",
            "14/14 [==============================] - 0s 19ms/step - loss: 2.2795 - accuracy: 0.1234 - val_loss: 2.2686 - val_accuracy: 0.1500\n",
            "Epoch 3/20\n",
            "14/14 [==============================] - 0s 17ms/step - loss: 2.2566 - accuracy: 0.1809 - val_loss: 2.2486 - val_accuracy: 0.2500\n",
            "Epoch 4/20\n",
            "14/14 [==============================] - 0s 18ms/step - loss: 2.2436 - accuracy: 0.1977 - val_loss: 2.2273 - val_accuracy: 0.2600\n",
            "Epoch 5/20\n",
            "14/14 [==============================] - 0s 16ms/step - loss: 2.2130 - accuracy: 0.2460 - val_loss: 2.2004 - val_accuracy: 0.2900\n",
            "Epoch 6/20\n",
            "14/14 [==============================] - 0s 17ms/step - loss: 2.1929 - accuracy: 0.2471 - val_loss: 2.1678 - val_accuracy: 0.3700\n",
            "Epoch 7/20\n",
            "14/14 [==============================] - 0s 15ms/step - loss: 2.1556 - accuracy: 0.2854 - val_loss: 2.1238 - val_accuracy: 0.4300\n",
            "Epoch 8/20\n",
            "14/14 [==============================] - 0s 15ms/step - loss: 2.1117 - accuracy: 0.3097 - val_loss: 2.0651 - val_accuracy: 0.4800\n",
            "Epoch 9/20\n",
            "14/14 [==============================] - 0s 16ms/step - loss: 2.0529 - accuracy: 0.3423 - val_loss: 1.9862 - val_accuracy: 0.5150\n",
            "Epoch 10/20\n",
            "14/14 [==============================] - 0s 14ms/step - loss: 1.9766 - accuracy: 0.3723 - val_loss: 1.8810 - val_accuracy: 0.6100\n",
            "Epoch 11/20\n",
            "14/14 [==============================] - 0s 15ms/step - loss: 1.8871 - accuracy: 0.4014 - val_loss: 1.7533 - val_accuracy: 0.6450\n",
            "Epoch 12/20\n",
            "14/14 [==============================] - 0s 15ms/step - loss: 1.7716 - accuracy: 0.4434 - val_loss: 1.5882 - val_accuracy: 0.7450\n",
            "Epoch 13/20\n",
            "14/14 [==============================] - 0s 14ms/step - loss: 1.6519 - accuracy: 0.4831 - val_loss: 1.4263 - val_accuracy: 0.7350\n",
            "Epoch 14/20\n",
            "14/14 [==============================] - 0s 14ms/step - loss: 1.5097 - accuracy: 0.5180 - val_loss: 1.2495 - val_accuracy: 0.7750\n",
            "Epoch 15/20\n",
            "14/14 [==============================] - 0s 16ms/step - loss: 1.3803 - accuracy: 0.5600 - val_loss: 1.0924 - val_accuracy: 0.8000\n",
            "Epoch 16/20\n",
            "14/14 [==============================] - 0s 15ms/step - loss: 1.2776 - accuracy: 0.5837 - val_loss: 0.9701 - val_accuracy: 0.8050\n",
            "Epoch 17/20\n",
            "14/14 [==============================] - 0s 15ms/step - loss: 1.1785 - accuracy: 0.6249 - val_loss: 0.8751 - val_accuracy: 0.8050\n",
            "Epoch 18/20\n",
            "14/14 [==============================] - 0s 15ms/step - loss: 1.1073 - accuracy: 0.6377 - val_loss: 0.7876 - val_accuracy: 0.8100\n",
            "Epoch 19/20\n",
            "14/14 [==============================] - 0s 15ms/step - loss: 1.0466 - accuracy: 0.6537 - val_loss: 0.7211 - val_accuracy: 0.8250\n",
            "Epoch 20/20\n",
            "14/14 [==============================] - 0s 15ms/step - loss: 0.9729 - accuracy: 0.6806 - val_loss: 0.6582 - val_accuracy: 0.8400\n"
          ]
        }
      ]
    },
    {
      "cell_type": "markdown",
      "source": [
        "# **Define CLR schedule**"
      ],
      "metadata": {
        "id": "sbpGj6PtJmgR"
      }
    },
    {
      "cell_type": "code",
      "source": [
        "steps_per_epoch = len(x_train) // BATCH_SIZE\n",
        "clr = tfa.optimizers.CyclicalLearningRate(initial_learning_rate=INIT_LR,\n",
        "    maximal_learning_rate=MAX_LR,\n",
        "    scale_fn=lambda x: 1/(2.**(x-1)),\n",
        "    step_size=2 * steps_per_epoch\n",
        ")\n",
        "optimizer = tf.keras.optimizers.SGD(clr)"
      ],
      "metadata": {
        "id": "DTcbQZhaJqBP"
      },
      "execution_count": 34,
      "outputs": []
    },
    {
      "cell_type": "markdown",
      "source": [
        "Visualize how the clr schedule looks like."
      ],
      "metadata": {
        "id": "dpatRDtQKBz1"
      }
    },
    {
      "cell_type": "code",
      "source": [
        "step = np.arange(0, 100 * steps_per_epoch)\n",
        "lr = clr(step)\n",
        "plt.plot(step, lr)\n",
        "plt.xlabel(\"Steps\")\n",
        "plt.ylabel(\"Learning Rate\")\n",
        "plt.show()"
      ],
      "metadata": {
        "id": "jYC3uVsDKFmf",
        "outputId": "4166f612-35d0-4a42-9cd9-3ea5006dd420",
        "colab": {
          "base_uri": "https://localhost:8080/",
          "height": 279
        }
      },
      "execution_count": 36,
      "outputs": [
        {
          "output_type": "display_data",
          "data": {
            "image/png": "[encoded data removed]",
            "text/plain": [
              "<Figure size 432x288 with 1 Axes>"
            ]
          },
          "metadata": {
            "needs_background": "light"
          }
        }
      ]
    },
    {
      "cell_type": "markdown",
      "source": [
        "\n",
        "In this assighment ,we use triangular2 methode in the CLR paper "
      ],
      "metadata": {
        "id": "4qhwgV0YKtpJ"
      }
    },
    {
      "cell_type": "markdown",
      "source": [
        "# **Train a model with CLR**"
      ],
      "metadata": {
        "id": "JVTVn6c4K-oC"
      }
    },
    {
      "cell_type": "code",
      "source": [
        "clr_model = get_training_model()\n",
        "clr_history = train_model(clr_model, optimizer=optimizer)"
      ],
      "metadata": {
        "id": "btM1UIHVK6Cy",
        "outputId": "91d14f11-b5b4-4e13-f46b-0347d0097187",
        "colab": {
          "base_uri": "https://localhost:8080/"
        }
      },
      "execution_count": 37,
      "outputs": [
        {
          "output_type": "stream",
          "name": "stdout",
          "text": [
            "Epoch 1/20\n",
            "14/14 [==============================] - 1s 33ms/step - loss: 2.2998 - accuracy: 0.1143 - val_loss: 2.2776 - val_accuracy: 0.2900\n",
            "Epoch 2/20\n",
            "14/14 [==============================] - 0s 17ms/step - loss: 2.2490 - accuracy: 0.2200 - val_loss: 2.1422 - val_accuracy: 0.5800\n",
            "Epoch 3/20\n",
            "14/14 [==============================] - 0s 17ms/step - loss: 1.9970 - accuracy: 0.3414 - val_loss: 1.5744 - val_accuracy: 0.7250\n",
            "Epoch 4/20\n",
            "14/14 [==============================] - 0s 17ms/step - loss: 1.5549 - accuracy: 0.5143 - val_loss: 1.2832 - val_accuracy: 0.7800\n",
            "Epoch 5/20\n",
            "14/14 [==============================] - 0s 17ms/step - loss: 1.4101 - accuracy: 0.5383 - val_loss: 1.2193 - val_accuracy: 0.6850\n",
            "Epoch 6/20\n",
            "14/14 [==============================] - 0s 15ms/step - loss: 1.4340 - accuracy: 0.5180 - val_loss: 0.8014 - val_accuracy: 0.8300\n",
            "Epoch 7/20\n",
            "14/14 [==============================] - 0s 15ms/step - loss: 1.0099 - accuracy: 0.6560 - val_loss: 0.6093 - val_accuracy: 0.8350\n",
            "Epoch 8/20\n",
            "14/14 [==============================] - 0s 15ms/step - loss: 0.9243 - accuracy: 0.6931 - val_loss: 0.5928 - val_accuracy: 0.8450\n",
            "Epoch 9/20\n",
            "14/14 [==============================] - 0s 15ms/step - loss: 0.8911 - accuracy: 0.7051 - val_loss: 0.5472 - val_accuracy: 0.8450\n",
            "Epoch 10/20\n",
            "14/14 [==============================] - 0s 15ms/step - loss: 0.8565 - accuracy: 0.7134 - val_loss: 0.4913 - val_accuracy: 0.8500\n",
            "Epoch 11/20\n",
            "14/14 [==============================] - 0s 15ms/step - loss: 0.7967 - accuracy: 0.7343 - val_loss: 0.4543 - val_accuracy: 0.8700\n",
            "Epoch 12/20\n",
            "14/14 [==============================] - 0s 15ms/step - loss: 0.7448 - accuracy: 0.7511 - val_loss: 0.4464 - val_accuracy: 0.8750\n",
            "Epoch 13/20\n",
            "14/14 [==============================] - 0s 14ms/step - loss: 0.7522 - accuracy: 0.7454 - val_loss: 0.4432 - val_accuracy: 0.8600\n",
            "Epoch 14/20\n",
            "14/14 [==============================] - 0s 15ms/step - loss: 0.7211 - accuracy: 0.7629 - val_loss: 0.4144 - val_accuracy: 0.8700\n",
            "Epoch 15/20\n",
            "14/14 [==============================] - 0s 15ms/step - loss: 0.6874 - accuracy: 0.7757 - val_loss: 0.4002 - val_accuracy: 0.8850\n",
            "Epoch 16/20\n",
            "14/14 [==============================] - 0s 14ms/step - loss: 0.7082 - accuracy: 0.7600 - val_loss: 0.3984 - val_accuracy: 0.8800\n",
            "Epoch 17/20\n",
            "14/14 [==============================] - 0s 15ms/step - loss: 0.6792 - accuracy: 0.7729 - val_loss: 0.3872 - val_accuracy: 0.8800\n",
            "Epoch 18/20\n",
            "14/14 [==============================] - 0s 15ms/step - loss: 0.6632 - accuracy: 0.7751 - val_loss: 0.3753 - val_accuracy: 0.8750\n",
            "Epoch 19/20\n",
            "14/14 [==============================] - 0s 15ms/step - loss: 0.6635 - accuracy: 0.7800 - val_loss: 0.3740 - val_accuracy: 0.8900\n",
            "Epoch 20/20\n",
            "14/14 [==============================] - 0s 15ms/step - loss: 0.6553 - accuracy: 0.7854 - val_loss: 0.3702 - val_accuracy: 0.8950\n"
          ]
        }
      ]
    },
    {
      "cell_type": "markdown",
      "source": [
        "# **Visualize losses**"
      ],
      "metadata": {
        "id": "5q-BHOcZgyPw"
      }
    },
    {
      "cell_type": "code",
      "source": [
        "(fig, ax) = plt.subplots(2, 1, figsize=(10, 8))\n",
        "\n",
        "ax[0].plot(no_clr_history.history[\"loss\"], label=\"train_loss\")\n",
        "ax[0].plot(no_clr_history.history[\"val_loss\"], label=\"val_loss\")\n",
        "ax[0].set_title(\"No CLR\")\n",
        "ax[0].set_xlabel(\"Epochs\")\n",
        "ax[0].set_ylabel(\"Loss\")\n",
        "ax[0].set_ylim([0, 2.5])\n",
        "ax[0].legend()\n",
        "\n",
        "ax[1].plot(clr_history.history[\"loss\"], label=\"train_loss\")\n",
        "ax[1].plot(clr_history.history[\"val_loss\"], label=\"val_loss\")\n",
        "ax[1].set_title(\"CLR\")\n",
        "ax[1].set_xlabel(\"Epochs\")\n",
        "ax[1].set_ylabel(\"Loss\")\n",
        "ax[1].set_ylim([0, 2.5])\n",
        "ax[1].legend()\n",
        "\n",
        "fig.tight_layout(pad=3.0)\n",
        "fig.show()"
      ],
      "metadata": {
        "id": "8TzeRKPnguue",
        "outputId": "a7c594f3-75f9-4646-e21b-9c82a0072a7b",
        "colab": {
          "base_uri": "https://localhost:8080/",
          "height": 547
        }
      },
      "execution_count": 38,
      "outputs": [
        {
          "output_type": "display_data",
          "data": {
            "image/png": "[encoded data removed]",
            "text/plain": [
              "<Figure size 720x576 with 2 Axes>"
            ]
          },
          "metadata": {
            "needs_background": "light"
          }
        }
      ]
    },
    {
      "cell_type": "markdown",
      "source": [
        "# Result\n",
        "Best LearningRate is between 1e-3 < learning rate < 1e-1\n",
        "\n",
        "With using Cyclical Learning Rates we can optimize our model ."
      ],
      "metadata": {
        "id": "Mplz_IhnlQ1e"
      }
    },
    {
      "cell_type": "code",
      "source": [
        ""
      ],
      "metadata": {
        "id": "7ZZihZOeksD6"
      },
      "execution_count": null,
      "outputs": []
    }
  ]
}