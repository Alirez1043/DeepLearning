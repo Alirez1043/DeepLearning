{
  "cells": [
    {
      "cell_type": "markdown",
      "metadata": {
        "id": "view-in-github",
        "colab_type": "text"
      },
      "source": [
        "<a href=\"https://colab.research.google.com/github/Alirez1043/DeepLearning/blob/main/Assighments/1/IRIS.ipynb\" target=\"_parent\"><img src=\"https://colab.research.google.com/assets/colab-badge.svg\" alt=\"Open In Colab\"/></a>"
      ]
    },
    {
      "cell_type": "markdown",
      "metadata": {
        "id": "Jv6Poew_NIck"
      },
      "source": [
        "<center><div style=\"direction:rtl;font-family:B Lotus, B Nazanin, Tahoma\">به نام خدا</div></center>\n",
        "\n",
        "<h1><center><div style=\"direction:rtl;font-family:B Lotus, B Nazanin, Tahoma\">تمرین عملی 1: طبقه بندی با شبکه های تمام متصل روی مجموعه داده IRIS</div></center></h1>"
      ]
    },
    {
      "cell_type": "markdown",
      "metadata": {
        "id": "5uwOjlTuNIcr"
      },
      "source": [
        "## <div style=\"direction:rtl;text-align:right;font-family:B Lotus, B Nazanin, Tahoma\">صورت مساله</div>\n",
        "\n",
        "\n",
        "<div style=\"direction:rtl;text-align:right;font-family:Tahoma\">\n",
        "در اولین جلسه کارگاه طبقه بندی با شبکه های تمام متصل را دیدیم.\n",
        "<br>\n",
        "توصیه می‌شود حتما نوت بوک‌های زیر را قبل از این تمرین مرور کنید:\n",
        "</div>\n",
        "\n",
        "[04_a Gentle Introduction to Keras - Simple neural network(mlp).ipynb](https://nbviewer.jupyter.org/github/alireza-akhavan/SRU-deeplearning-workshop/blob/master/04_a%20Gentle%20Introduction%20to%20Keras%20-%20Simple%20neural%20network%28mlp%29.ipynb)\n",
        "\n",
        "[05_Dropout.ipynb](https://nbviewer.jupyter.org/github/alireza-akhavan/SRU-deeplearning-workshop/blob/master/05_Dropout.ipynb)\n",
        "\n",
        "<div style=\"direction:rtl;text-align:right;font-family:Tahoma\">\n",
        "در این جلسه با داده های تصویری آشنا شدیم. اما در این تمرین برای اینکه بدانیم کاربرد این مباحث در مسائل غیر تصویری نیز هست  از مجموعه داده ی ساختار یافتهiris  شامل 4 ویژگی برای طول و عرض کاسبرگ و گلبرگ استفاده خواهیم کرد که بتوانیم بر اساس این ویژگی ها نوع گل را از 3 کلاس متفاوت تشخیص دهیم.\n",
        "</div>"
      ]
    },
    {
      "cell_type": "markdown",
      "metadata": {
        "id": "np7FMrf_NIct"
      },
      "source": [
        "## <div style=\"direction:rtl;text-align:right;font-family:B Lotus, B Nazanin, Tahoma\">لود کتابخانه های مورد نیاز </div>\n",
        "<div style=\"direction:rtl;text-align:right;font-family:Tahoma\">\n",
        "کتابخانه های مورد نیاز این تمرین لود شده اند\n",
        "<br>\n",
        "در صورت نیاز میتوانید کتابخانه های بیشتری لود کنید:\n",
        "</div>"
      ]
    },
    {
      "cell_type": "code",
      "execution_count": 1,
      "metadata": {
        "id": "gPJUL68iNIcu"
      },
      "outputs": [],
      "source": [
        "import numpy as np\n",
        "from tensorflow import keras\n",
        "from sklearn.datasets import load_iris\n",
        "from sklearn.model_selection import train_test_split\n",
        "from keras.models import Sequential\n",
        "from keras.layers import Dense, Dropout\n",
        "from tensorflow.keras.optimizers import Adam"
      ]
    },
    {
      "cell_type": "markdown",
      "metadata": {
        "id": "Z19xqu7gNIcx"
      },
      "source": [
        "<div style=\"direction:rtl;text-align:right;font-family:Tahoma\">\n",
        "در این تمرین میخواهیم از مجموعه داده iris استفاده کنیم.\n",
        "<br>\n",
        "توضیحات این مجموعه داده در سایت آن موجود است:\n",
        "</div>\n",
        "\n",
        "https://archive.ics.uci.edu/ml/datasets/iris\n",
        "\n",
        "\n",
        "<div style=\"direction:rtl;text-align:right;font-family:Tahoma\">\n",
        "ویژگی ها و کلاس های این مجموعه داده به شرح زیر است:\n",
        "</div>\n",
        "\n",
        "Attribute Information:\n",
        "\n",
        "1. sepal length in cm\n",
        "2. sepal width in cm\n",
        "3. petal length in cm\n",
        "4. petal width in cm\n",
        "\n",
        "class:\n",
        "\n",
        "    Iris Setosa\n",
        "    Iris Versicolour\n",
        "    Iris Virginica\n",
        "\n",
        "<div style=\"direction:rtl;text-align:right;font-family:Tahoma\">\n",
        "این دیتاست در کتابخانه sklearn موجود است\n",
        "<br>\n",
        "در قطعه کد زیر ویژگی ها را در x و برچسب یا labelهای متناظر را در y لود شده است.\n",
        "</div>"
      ]
    },
    {
      "cell_type": "code",
      "execution_count": 2,
      "metadata": {
        "id": "KrDaTQ27NIcy"
      },
      "outputs": [],
      "source": [
        "np.random.seed(100)\n",
        "iris_data = load_iris() # load the iris dataset\n",
        "x = iris_data.data\n",
        "y = iris_data.target.reshape(-1, 1) # Convert data to a single column"
      ]
    },
    {
      "cell_type": "markdown",
      "metadata": {
        "id": "OITedoOWNIcz"
      },
      "source": [
        "# <div style=\"direction:rtl;text-align:right;font-family:B Lotus, B Nazanin, Tahoma\">سوال 1:</div>\n",
        "<div style=\"direction:rtl;text-align:right;font-family:Tahoma\">\n",
        "برچسب یا label های ما در حال حاضر عددی است.\n",
        "<br>\n",
        "این اعداد 0 تا 2 هستند و به عبارتی 3 حالت مختلف دارند.\n",
        "<br>\n",
        "این برچسب ها را به فرمت one-hot تبدیل کنید و خروجی را مجدد در y بریزید.\n",
        "\n",
        "<br>\n",
        "<b>راهنمایی: </b>\n",
        "از تابع keras.utils.to_categorical استفاده کنید.\n",
        "</div>"
      ]
    },
    {
      "cell_type": "code",
      "execution_count": 3,
      "metadata": {
        "id": "BYjhKTJLNIc0"
      },
      "outputs": [],
      "source": [
        "y = keras.utils.to_categorical(y ,num_classes = 3)"
      ]
    },
    {
      "cell_type": "markdown",
      "metadata": {
        "id": "gx8S8_neNIc1"
      },
      "source": [
        "<div style=\"direction:rtl;text-align:right;font-family:Tahoma\">\n",
        "در زیر داده ها  به داده های test و train تقسیم شده است:\n",
        "</div>"
      ]
    },
    {
      "cell_type": "code",
      "execution_count": 4,
      "metadata": {
        "id": "oRrslf-VNIc2"
      },
      "outputs": [],
      "source": [
        "# Split the data for training and testing\n",
        "train_x, test_x, train_y, test_y = train_test_split(x, y, test_size=0.20)"
      ]
    },
    {
      "cell_type": "markdown",
      "metadata": {
        "id": "uvpddcHtNIc3"
      },
      "source": [
        "# <div style=\"direction:rtl;text-align:right;font-family:B Lotus, B Nazanin, Tahoma\">سوال 2:</div>\n",
        "<div style=\"direction:rtl;text-align:right;font-family:Tahoma\">\n",
        "یک شبکه با دو hidden-layer در هر لایه 10 نوران و تابع فعالیت relu بسازید. یک لایه Dropout با نرخ 0.5 در لایه آخر ماقبل softmax نیز اضافه کنید.\n",
        "</div>"
      ]
    },
    {
      "cell_type": "code",
      "execution_count": 29,
      "metadata": {
        "id": "1t2jNslMNIc3"
      },
      "outputs": [],
      "source": [
        "# Build the model\n",
        "input_dim = train_x.shape[-1]\n",
        "\n",
        "model = Sequential([\n",
        "       Dense(10, activation='relu', input_dim=input_dim),\n",
        "       Dense(10, activation='relu'),\n",
        "       Dropout(0.5),\n",
        "       Dense(3, activation='softmax')])\n"
      ]
    },
    {
      "cell_type": "code",
      "source": [
        "keras.utils.plot_model(model, \"Sequential_1.png\", show_shapes=True)"
      ],
      "metadata": {
        "colab": {
          "base_uri": "https://localhost:8080/",
          "height": 533
        },
        "id": "QgEDQujumPLt",
        "outputId": "dad6cb17-daaa-4190-9c82-37f4244b5371"
      },
      "execution_count": 30,
      "outputs": [
        {
          "output_type": "execute_result",
          "data": {
            "image/png": "[encoded data removed]",
            "text/plain": [
              "<IPython.core.display.Image object>"
            ]
          },
          "metadata": {},
          "execution_count": 30
        }
      ]
    },
    {
      "cell_type": "code",
      "execution_count": 31,
      "metadata": {
        "colab": {
          "base_uri": "https://localhost:8080/"
        },
        "id": "Ofr3Uti7NIc4",
        "outputId": "6b1b0bc8-cedb-4697-f0f7-ccecadf67aa1"
      },
      "outputs": [
        {
          "output_type": "stream",
          "name": "stdout",
          "text": [
            "Model: \"sequential_8\"\n",
            "_________________________________________________________________\n",
            " Layer (type)                Output Shape              Param #   \n",
            "=================================================================\n",
            " dense_15 (Dense)            (None, 10)                50        \n",
            "                                                                 \n",
            " dense_16 (Dense)            (None, 10)                110       \n",
            "                                                                 \n",
            " dropout_1 (Dropout)         (None, 10)                0         \n",
            "                                                                 \n",
            " dense_17 (Dense)            (None, 3)                 33        \n",
            "                                                                 \n",
            "=================================================================\n",
            "Total params: 193\n",
            "Trainable params: 193\n",
            "Non-trainable params: 0\n",
            "_________________________________________________________________\n"
          ]
        }
      ],
      "source": [
        "model.summary()"
      ]
    },
    {
      "cell_type": "markdown",
      "metadata": {
        "id": "zlASrIZwNIc5"
      },
      "source": [
        "<div style=\"direction:rtl;text-align:right;font-family:Tahoma\">در زیر مدل کامپایل شده است.</div>"
      ]
    },
    {
      "cell_type": "code",
      "execution_count": 32,
      "metadata": {
        "id": "XKh6rdGJNIc5"
      },
      "outputs": [],
      "source": [
        "# Adam optimizer with learning rate of 0.001\n",
        "optimizer = Adam(learning_rate=0.001)\n",
        "model.compile(optimizer, loss='categorical_crossentropy', metrics=['accuracy'])"
      ]
    },
    {
      "cell_type": "markdown",
      "metadata": {
        "id": "utDc8SxONIc6"
      },
      "source": [
        "# <div style=\"direction:rtl;text-align:right;font-family:B Lotus, B Nazanin, Tahoma\">سوال 3:</div>\n",
        "<div style=\"direction:rtl;text-align:right;font-family:Tahoma\">\n",
        "مدل را با  batch_size=5 و تعداد 200 ایپاک آموزش دهید.\n",
        "<br>\n",
        "<b>راهنمایی: </b>\n",
        "از تابع model.fit استفاده کنید.\n",
        "</div>"
      ]
    },
    {
      "cell_type": "code",
      "execution_count": 33,
      "metadata": {
        "colab": {
          "base_uri": "https://localhost:8080/"
        },
        "id": "HVjcjHW4NIc6",
        "outputId": "1cd58278-f491-485d-b133-82b5ba4d70ab"
      },
      "outputs": [
        {
          "output_type": "stream",
          "name": "stdout",
          "text": [
            "Epoch 1/200\n",
            "20/20 [==============================] - 1s 15ms/step - loss: 2.2849 - accuracy: 0.2708 - val_loss: 1.7347 - val_accuracy: 0.2083\n",
            "Epoch 2/200\n",
            "20/20 [==============================] - 0s 3ms/step - loss: 1.6121 - accuracy: 0.4167 - val_loss: 1.2944 - val_accuracy: 0.2083\n",
            "Epoch 3/200\n",
            "20/20 [==============================] - 0s 4ms/step - loss: 1.2425 - accuracy: 0.4271 - val_loss: 1.0029 - val_accuracy: 0.5417\n",
            "Epoch 4/200\n",
            "20/20 [==============================] - 0s 3ms/step - loss: 0.9331 - accuracy: 0.4792 - val_loss: 0.8713 - val_accuracy: 0.7083\n",
            "Epoch 5/200\n",
            "20/20 [==============================] - 0s 3ms/step - loss: 0.8462 - accuracy: 0.5417 - val_loss: 0.8357 - val_accuracy: 0.7083\n",
            "Epoch 6/200\n",
            "20/20 [==============================] - 0s 3ms/step - loss: 0.8192 - accuracy: 0.6146 - val_loss: 0.8163 - val_accuracy: 0.7083\n",
            "Epoch 7/200\n",
            "20/20 [==============================] - 0s 4ms/step - loss: 0.8578 - accuracy: 0.5521 - val_loss: 0.8006 - val_accuracy: 0.7083\n",
            "Epoch 8/200\n",
            "20/20 [==============================] - 0s 4ms/step - loss: 0.8013 - accuracy: 0.6042 - val_loss: 0.7934 - val_accuracy: 0.7083\n",
            "Epoch 9/200\n",
            "20/20 [==============================] - 0s 3ms/step - loss: 0.8095 - accuracy: 0.5625 - val_loss: 0.7889 - val_accuracy: 0.7083\n",
            "Epoch 10/200\n",
            "20/20 [==============================] - 0s 4ms/step - loss: 0.7234 - accuracy: 0.6771 - val_loss: 0.7796 - val_accuracy: 0.7083\n",
            "Epoch 11/200\n",
            "20/20 [==============================] - 0s 3ms/step - loss: 0.8360 - accuracy: 0.5833 - val_loss: 0.7717 - val_accuracy: 0.7083\n",
            "Epoch 12/200\n",
            "20/20 [==============================] - 0s 4ms/step - loss: 0.7279 - accuracy: 0.6562 - val_loss: 0.7610 - val_accuracy: 0.7083\n",
            "Epoch 13/200\n",
            "20/20 [==============================] - 0s 3ms/step - loss: 0.6866 - accuracy: 0.6458 - val_loss: 0.7504 - val_accuracy: 0.7083\n",
            "Epoch 14/200\n",
            "20/20 [==============================] - 0s 5ms/step - loss: 0.7281 - accuracy: 0.5625 - val_loss: 0.7381 - val_accuracy: 0.7083\n",
            "Epoch 15/200\n",
            "20/20 [==============================] - 0s 4ms/step - loss: 0.7505 - accuracy: 0.5938 - val_loss: 0.7302 - val_accuracy: 0.7083\n",
            "Epoch 16/200\n",
            "20/20 [==============================] - 0s 3ms/step - loss: 0.7164 - accuracy: 0.6250 - val_loss: 0.7271 - val_accuracy: 0.7083\n",
            "Epoch 17/200\n",
            "20/20 [==============================] - 0s 3ms/step - loss: 0.7037 - accuracy: 0.5938 - val_loss: 0.7175 - val_accuracy: 0.7083\n",
            "Epoch 18/200\n",
            "20/20 [==============================] - 0s 3ms/step - loss: 0.7381 - accuracy: 0.5938 - val_loss: 0.7121 - val_accuracy: 0.7083\n",
            "Epoch 19/200\n",
            "20/20 [==============================] - 0s 4ms/step - loss: 0.6917 - accuracy: 0.6250 - val_loss: 0.7003 - val_accuracy: 0.7083\n",
            "Epoch 20/200\n",
            "20/20 [==============================] - 0s 4ms/step - loss: 0.6611 - accuracy: 0.6250 - val_loss: 0.6855 - val_accuracy: 0.7083\n",
            "Epoch 21/200\n",
            "20/20 [==============================] - 0s 4ms/step - loss: 0.7178 - accuracy: 0.5833 - val_loss: 0.6763 - val_accuracy: 0.7083\n",
            "Epoch 22/200\n",
            "20/20 [==============================] - 0s 4ms/step - loss: 0.6146 - accuracy: 0.6979 - val_loss: 0.6643 - val_accuracy: 0.7083\n",
            "Epoch 23/200\n",
            "20/20 [==============================] - 0s 4ms/step - loss: 0.6185 - accuracy: 0.7396 - val_loss: 0.6494 - val_accuracy: 0.7083\n",
            "Epoch 24/200\n",
            "20/20 [==============================] - 0s 4ms/step - loss: 0.6245 - accuracy: 0.6875 - val_loss: 0.6371 - val_accuracy: 0.7083\n",
            "Epoch 25/200\n",
            "20/20 [==============================] - 0s 3ms/step - loss: 0.6058 - accuracy: 0.7083 - val_loss: 0.6242 - val_accuracy: 0.7083\n",
            "Epoch 26/200\n",
            "20/20 [==============================] - 0s 3ms/step - loss: 0.6091 - accuracy: 0.6667 - val_loss: 0.6162 - val_accuracy: 0.7083\n",
            "Epoch 27/200\n",
            "20/20 [==============================] - 0s 4ms/step - loss: 0.6028 - accuracy: 0.5833 - val_loss: 0.6129 - val_accuracy: 0.6667\n",
            "Epoch 28/200\n",
            "20/20 [==============================] - 0s 4ms/step - loss: 0.6383 - accuracy: 0.6562 - val_loss: 0.6007 - val_accuracy: 0.6250\n",
            "Epoch 29/200\n",
            "20/20 [==============================] - 0s 4ms/step - loss: 0.6121 - accuracy: 0.6875 - val_loss: 0.5965 - val_accuracy: 0.5833\n",
            "Epoch 30/200\n",
            "20/20 [==============================] - 0s 3ms/step - loss: 0.5835 - accuracy: 0.7188 - val_loss: 0.5926 - val_accuracy: 0.6667\n",
            "Epoch 31/200\n",
            "20/20 [==============================] - 0s 3ms/step - loss: 0.5682 - accuracy: 0.6875 - val_loss: 0.5782 - val_accuracy: 0.7500\n",
            "Epoch 32/200\n",
            "20/20 [==============================] - 0s 3ms/step - loss: 0.5856 - accuracy: 0.7188 - val_loss: 0.5720 - val_accuracy: 0.7917\n",
            "Epoch 33/200\n",
            "20/20 [==============================] - 0s 4ms/step - loss: 0.5320 - accuracy: 0.7917 - val_loss: 0.5628 - val_accuracy: 0.7500\n",
            "Epoch 34/200\n",
            "20/20 [==============================] - 0s 3ms/step - loss: 0.5230 - accuracy: 0.8021 - val_loss: 0.5597 - val_accuracy: 0.7500\n",
            "Epoch 35/200\n",
            "20/20 [==============================] - 0s 4ms/step - loss: 0.5011 - accuracy: 0.8646 - val_loss: 0.5485 - val_accuracy: 0.7917\n",
            "Epoch 36/200\n",
            "20/20 [==============================] - 0s 4ms/step - loss: 0.5136 - accuracy: 0.7708 - val_loss: 0.5460 - val_accuracy: 0.7500\n",
            "Epoch 37/200\n",
            "20/20 [==============================] - 0s 4ms/step - loss: 0.5284 - accuracy: 0.7604 - val_loss: 0.5404 - val_accuracy: 0.7500\n",
            "Epoch 38/200\n",
            "20/20 [==============================] - 0s 4ms/step - loss: 0.4979 - accuracy: 0.7812 - val_loss: 0.5264 - val_accuracy: 0.7917\n",
            "Epoch 39/200\n",
            "20/20 [==============================] - 0s 4ms/step - loss: 0.5137 - accuracy: 0.7708 - val_loss: 0.5258 - val_accuracy: 0.7917\n",
            "Epoch 40/200\n",
            "20/20 [==============================] - 0s 4ms/step - loss: 0.4696 - accuracy: 0.8125 - val_loss: 0.5084 - val_accuracy: 0.7917\n",
            "Epoch 41/200\n",
            "20/20 [==============================] - 0s 4ms/step - loss: 0.5409 - accuracy: 0.7292 - val_loss: 0.5071 - val_accuracy: 0.7917\n",
            "Epoch 42/200\n",
            "20/20 [==============================] - 0s 3ms/step - loss: 0.5722 - accuracy: 0.7604 - val_loss: 0.4983 - val_accuracy: 0.7917\n",
            "Epoch 43/200\n",
            "20/20 [==============================] - 0s 3ms/step - loss: 0.4728 - accuracy: 0.7708 - val_loss: 0.4940 - val_accuracy: 0.7917\n",
            "Epoch 44/200\n",
            "20/20 [==============================] - 0s 3ms/step - loss: 0.5470 - accuracy: 0.7396 - val_loss: 0.4896 - val_accuracy: 0.7917\n",
            "Epoch 45/200\n",
            "20/20 [==============================] - 0s 4ms/step - loss: 0.4706 - accuracy: 0.8333 - val_loss: 0.4836 - val_accuracy: 0.8750\n",
            "Epoch 46/200\n",
            "20/20 [==============================] - 0s 3ms/step - loss: 0.4848 - accuracy: 0.7917 - val_loss: 0.4680 - val_accuracy: 0.7917\n",
            "Epoch 47/200\n",
            "20/20 [==============================] - 0s 3ms/step - loss: 0.4903 - accuracy: 0.7917 - val_loss: 0.4559 - val_accuracy: 0.7917\n",
            "Epoch 48/200\n",
            "20/20 [==============================] - 0s 3ms/step - loss: 0.4680 - accuracy: 0.7812 - val_loss: 0.4687 - val_accuracy: 0.8750\n",
            "Epoch 49/200\n",
            "20/20 [==============================] - 0s 4ms/step - loss: 0.4907 - accuracy: 0.8021 - val_loss: 0.4488 - val_accuracy: 0.7917\n",
            "Epoch 50/200\n",
            "20/20 [==============================] - 0s 4ms/step - loss: 0.4408 - accuracy: 0.8438 - val_loss: 0.4432 - val_accuracy: 0.7917\n",
            "Epoch 51/200\n",
            "20/20 [==============================] - 0s 4ms/step - loss: 0.4650 - accuracy: 0.8438 - val_loss: 0.4337 - val_accuracy: 0.7917\n",
            "Epoch 52/200\n",
            "20/20 [==============================] - 0s 4ms/step - loss: 0.4464 - accuracy: 0.8021 - val_loss: 0.4262 - val_accuracy: 0.7917\n",
            "Epoch 53/200\n",
            "20/20 [==============================] - 0s 3ms/step - loss: 0.4973 - accuracy: 0.7812 - val_loss: 0.4526 - val_accuracy: 0.8333\n",
            "Epoch 54/200\n",
            "20/20 [==============================] - 0s 4ms/step - loss: 0.4578 - accuracy: 0.7917 - val_loss: 0.4242 - val_accuracy: 0.7917\n",
            "Epoch 55/200\n",
            "20/20 [==============================] - 0s 4ms/step - loss: 0.4642 - accuracy: 0.8229 - val_loss: 0.3983 - val_accuracy: 0.8333\n",
            "Epoch 56/200\n",
            "20/20 [==============================] - 0s 4ms/step - loss: 0.4932 - accuracy: 0.7292 - val_loss: 0.4102 - val_accuracy: 0.7917\n",
            "Epoch 57/200\n",
            "20/20 [==============================] - 0s 4ms/step - loss: 0.3689 - accuracy: 0.8854 - val_loss: 0.4069 - val_accuracy: 0.7917\n",
            "Epoch 58/200\n",
            "20/20 [==============================] - 0s 4ms/step - loss: 0.5160 - accuracy: 0.7396 - val_loss: 0.4168 - val_accuracy: 0.8750\n",
            "Epoch 59/200\n",
            "20/20 [==============================] - 0s 4ms/step - loss: 0.4574 - accuracy: 0.7917 - val_loss: 0.3924 - val_accuracy: 0.7917\n",
            "Epoch 60/200\n",
            "20/20 [==============================] - 0s 4ms/step - loss: 0.4323 - accuracy: 0.7812 - val_loss: 0.3876 - val_accuracy: 0.7917\n",
            "Epoch 61/200\n",
            "20/20 [==============================] - 0s 3ms/step - loss: 0.4607 - accuracy: 0.7812 - val_loss: 0.4023 - val_accuracy: 0.8750\n",
            "Epoch 62/200\n",
            "20/20 [==============================] - 0s 3ms/step - loss: 0.4574 - accuracy: 0.7812 - val_loss: 0.3887 - val_accuracy: 0.8333\n",
            "Epoch 63/200\n",
            "20/20 [==============================] - 0s 4ms/step - loss: 0.4524 - accuracy: 0.8021 - val_loss: 0.3841 - val_accuracy: 0.8333\n",
            "Epoch 64/200\n",
            "20/20 [==============================] - 0s 3ms/step - loss: 0.3836 - accuracy: 0.8229 - val_loss: 0.3775 - val_accuracy: 0.8333\n",
            "Epoch 65/200\n",
            "20/20 [==============================] - 0s 3ms/step - loss: 0.5201 - accuracy: 0.7708 - val_loss: 0.3841 - val_accuracy: 0.8750\n",
            "Epoch 66/200\n",
            "20/20 [==============================] - 0s 4ms/step - loss: 0.4609 - accuracy: 0.8229 - val_loss: 0.3743 - val_accuracy: 0.8333\n",
            "Epoch 67/200\n",
            "20/20 [==============================] - 0s 3ms/step - loss: 0.4476 - accuracy: 0.7917 - val_loss: 0.3639 - val_accuracy: 0.8333\n",
            "Epoch 68/200\n",
            "20/20 [==============================] - 0s 3ms/step - loss: 0.3658 - accuracy: 0.8542 - val_loss: 0.3854 - val_accuracy: 0.8750\n",
            "Epoch 69/200\n",
            "20/20 [==============================] - 0s 4ms/step - loss: 0.4348 - accuracy: 0.8333 - val_loss: 0.3473 - val_accuracy: 0.8333\n",
            "Epoch 70/200\n",
            "20/20 [==============================] - 0s 4ms/step - loss: 0.4379 - accuracy: 0.7917 - val_loss: 0.3730 - val_accuracy: 0.8750\n",
            "Epoch 71/200\n",
            "20/20 [==============================] - 0s 3ms/step - loss: 0.4129 - accuracy: 0.8125 - val_loss: 0.3508 - val_accuracy: 0.8750\n",
            "Epoch 72/200\n",
            "20/20 [==============================] - 0s 3ms/step - loss: 0.4090 - accuracy: 0.8125 - val_loss: 0.3445 - val_accuracy: 0.8750\n",
            "Epoch 73/200\n",
            "20/20 [==============================] - 0s 4ms/step - loss: 0.3317 - accuracy: 0.8854 - val_loss: 0.3477 - val_accuracy: 0.8333\n",
            "Epoch 74/200\n",
            "20/20 [==============================] - 0s 3ms/step - loss: 0.3655 - accuracy: 0.8438 - val_loss: 0.3286 - val_accuracy: 0.8750\n",
            "Epoch 75/200\n",
            "20/20 [==============================] - 0s 3ms/step - loss: 0.4553 - accuracy: 0.8021 - val_loss: 0.3903 - val_accuracy: 0.8333\n",
            "Epoch 76/200\n",
            "20/20 [==============================] - 0s 4ms/step - loss: 0.4294 - accuracy: 0.8438 - val_loss: 0.3309 - val_accuracy: 0.8750\n",
            "Epoch 77/200\n",
            "20/20 [==============================] - 0s 4ms/step - loss: 0.4286 - accuracy: 0.8229 - val_loss: 0.3256 - val_accuracy: 0.8750\n",
            "Epoch 78/200\n",
            "20/20 [==============================] - 0s 4ms/step - loss: 0.4397 - accuracy: 0.7917 - val_loss: 0.3260 - val_accuracy: 0.8750\n",
            "Epoch 79/200\n",
            "20/20 [==============================] - 0s 4ms/step - loss: 0.4139 - accuracy: 0.8229 - val_loss: 0.3316 - val_accuracy: 0.8750\n",
            "Epoch 80/200\n",
            "20/20 [==============================] - 0s 4ms/step - loss: 0.4118 - accuracy: 0.8542 - val_loss: 0.3274 - val_accuracy: 0.8750\n",
            "Epoch 81/200\n",
            "20/20 [==============================] - 0s 4ms/step - loss: 0.4280 - accuracy: 0.8125 - val_loss: 0.3208 - val_accuracy: 0.8750\n",
            "Epoch 82/200\n",
            "20/20 [==============================] - 0s 4ms/step - loss: 0.4052 - accuracy: 0.8542 - val_loss: 0.3179 - val_accuracy: 0.8750\n",
            "Epoch 83/200\n",
            "20/20 [==============================] - 0s 4ms/step - loss: 0.4499 - accuracy: 0.7917 - val_loss: 0.3172 - val_accuracy: 0.8750\n",
            "Epoch 84/200\n",
            "20/20 [==============================] - 0s 3ms/step - loss: 0.4041 - accuracy: 0.8333 - val_loss: 0.3232 - val_accuracy: 0.8750\n",
            "Epoch 85/200\n",
            "20/20 [==============================] - 0s 4ms/step - loss: 0.3902 - accuracy: 0.8646 - val_loss: 0.3254 - val_accuracy: 0.8333\n",
            "Epoch 86/200\n",
            "20/20 [==============================] - 0s 4ms/step - loss: 0.3907 - accuracy: 0.8229 - val_loss: 0.3119 - val_accuracy: 0.8750\n",
            "Epoch 87/200\n",
            "20/20 [==============================] - 0s 5ms/step - loss: 0.3953 - accuracy: 0.8438 - val_loss: 0.3260 - val_accuracy: 0.9167\n",
            "Epoch 88/200\n",
            "20/20 [==============================] - 0s 3ms/step - loss: 0.3450 - accuracy: 0.8646 - val_loss: 0.3031 - val_accuracy: 0.8750\n",
            "Epoch 89/200\n",
            "20/20 [==============================] - 0s 4ms/step - loss: 0.4193 - accuracy: 0.8542 - val_loss: 0.3250 - val_accuracy: 0.8750\n",
            "Epoch 90/200\n",
            "20/20 [==============================] - 0s 4ms/step - loss: 0.3576 - accuracy: 0.8646 - val_loss: 0.2996 - val_accuracy: 0.8750\n",
            "Epoch 91/200\n",
            "20/20 [==============================] - 0s 3ms/step - loss: 0.3923 - accuracy: 0.8229 - val_loss: 0.3047 - val_accuracy: 0.8750\n",
            "Epoch 92/200\n",
            "20/20 [==============================] - 0s 4ms/step - loss: 0.3931 - accuracy: 0.7917 - val_loss: 0.3091 - val_accuracy: 0.8750\n",
            "Epoch 93/200\n",
            "20/20 [==============================] - 0s 4ms/step - loss: 0.3488 - accuracy: 0.8750 - val_loss: 0.3016 - val_accuracy: 0.8750\n",
            "Epoch 94/200\n",
            "20/20 [==============================] - 0s 4ms/step - loss: 0.4743 - accuracy: 0.7812 - val_loss: 0.2968 - val_accuracy: 0.8750\n",
            "Epoch 95/200\n",
            "20/20 [==============================] - 0s 3ms/step - loss: 0.4044 - accuracy: 0.8021 - val_loss: 0.3041 - val_accuracy: 0.8750\n",
            "Epoch 96/200\n",
            "20/20 [==============================] - 0s 4ms/step - loss: 0.3745 - accuracy: 0.8229 - val_loss: 0.3074 - val_accuracy: 0.8750\n",
            "Epoch 97/200\n",
            "20/20 [==============================] - 0s 4ms/step - loss: 0.4247 - accuracy: 0.8125 - val_loss: 0.3011 - val_accuracy: 0.8750\n",
            "Epoch 98/200\n",
            "20/20 [==============================] - 0s 4ms/step - loss: 0.4074 - accuracy: 0.8229 - val_loss: 0.3193 - val_accuracy: 0.8750\n",
            "Epoch 99/200\n",
            "20/20 [==============================] - 0s 3ms/step - loss: 0.3646 - accuracy: 0.8750 - val_loss: 0.2941 - val_accuracy: 0.8750\n",
            "Epoch 100/200\n",
            "20/20 [==============================] - 0s 4ms/step - loss: 0.4172 - accuracy: 0.8438 - val_loss: 0.2924 - val_accuracy: 0.8750\n",
            "Epoch 101/200\n",
            "20/20 [==============================] - 0s 4ms/step - loss: 0.3392 - accuracy: 0.8750 - val_loss: 0.3064 - val_accuracy: 0.9167\n",
            "Epoch 102/200\n",
            "20/20 [==============================] - 0s 3ms/step - loss: 0.3880 - accuracy: 0.8333 - val_loss: 0.2861 - val_accuracy: 0.8750\n",
            "Epoch 103/200\n",
            "20/20 [==============================] - 0s 4ms/step - loss: 0.4403 - accuracy: 0.7917 - val_loss: 0.2826 - val_accuracy: 0.8750\n",
            "Epoch 104/200\n",
            "20/20 [==============================] - 0s 4ms/step - loss: 0.4331 - accuracy: 0.7812 - val_loss: 0.3268 - val_accuracy: 0.8750\n",
            "Epoch 105/200\n",
            "20/20 [==============================] - 0s 4ms/step - loss: 0.3744 - accuracy: 0.8333 - val_loss: 0.2890 - val_accuracy: 0.8750\n",
            "Epoch 106/200\n",
            "20/20 [==============================] - 0s 4ms/step - loss: 0.3855 - accuracy: 0.8021 - val_loss: 0.2796 - val_accuracy: 0.8750\n",
            "Epoch 107/200\n",
            "20/20 [==============================] - 0s 4ms/step - loss: 0.3868 - accuracy: 0.8333 - val_loss: 0.2820 - val_accuracy: 0.8750\n",
            "Epoch 108/200\n",
            "20/20 [==============================] - 0s 4ms/step - loss: 0.4255 - accuracy: 0.8125 - val_loss: 0.2950 - val_accuracy: 0.9167\n",
            "Epoch 109/200\n",
            "20/20 [==============================] - 0s 4ms/step - loss: 0.3989 - accuracy: 0.8438 - val_loss: 0.2750 - val_accuracy: 0.8750\n",
            "Epoch 110/200\n",
            "20/20 [==============================] - 0s 3ms/step - loss: 0.3764 - accuracy: 0.8542 - val_loss: 0.2795 - val_accuracy: 0.8750\n",
            "Epoch 111/200\n",
            "20/20 [==============================] - 0s 4ms/step - loss: 0.3768 - accuracy: 0.8333 - val_loss: 0.2868 - val_accuracy: 0.9167\n",
            "Epoch 112/200\n",
            "20/20 [==============================] - 0s 5ms/step - loss: 0.3510 - accuracy: 0.8333 - val_loss: 0.2829 - val_accuracy: 0.9167\n",
            "Epoch 113/200\n",
            "20/20 [==============================] - 0s 3ms/step - loss: 0.3587 - accuracy: 0.8438 - val_loss: 0.2911 - val_accuracy: 0.9167\n",
            "Epoch 114/200\n",
            "20/20 [==============================] - 0s 3ms/step - loss: 0.3323 - accuracy: 0.8854 - val_loss: 0.2685 - val_accuracy: 0.8750\n",
            "Epoch 115/200\n",
            "20/20 [==============================] - 0s 4ms/step - loss: 0.3426 - accuracy: 0.8854 - val_loss: 0.2602 - val_accuracy: 0.9167\n",
            "Epoch 116/200\n",
            "20/20 [==============================] - 0s 4ms/step - loss: 0.4141 - accuracy: 0.8438 - val_loss: 0.2802 - val_accuracy: 0.9167\n",
            "Epoch 117/200\n",
            "20/20 [==============================] - 0s 5ms/step - loss: 0.3737 - accuracy: 0.8333 - val_loss: 0.2708 - val_accuracy: 0.9167\n",
            "Epoch 118/200\n",
            "20/20 [==============================] - 0s 4ms/step - loss: 0.3142 - accuracy: 0.9062 - val_loss: 0.2566 - val_accuracy: 0.8750\n",
            "Epoch 119/200\n",
            "20/20 [==============================] - 0s 3ms/step - loss: 0.4384 - accuracy: 0.7812 - val_loss: 0.2621 - val_accuracy: 0.8750\n",
            "Epoch 120/200\n",
            "20/20 [==============================] - 0s 4ms/step - loss: 0.3088 - accuracy: 0.8854 - val_loss: 0.2625 - val_accuracy: 0.8750\n",
            "Epoch 121/200\n",
            "20/20 [==============================] - 0s 4ms/step - loss: 0.3609 - accuracy: 0.8438 - val_loss: 0.2589 - val_accuracy: 0.9167\n",
            "Epoch 122/200\n",
            "20/20 [==============================] - 0s 4ms/step - loss: 0.4895 - accuracy: 0.7500 - val_loss: 0.2669 - val_accuracy: 0.8750\n",
            "Epoch 123/200\n",
            "20/20 [==============================] - 0s 3ms/step - loss: 0.3910 - accuracy: 0.8229 - val_loss: 0.2572 - val_accuracy: 0.8750\n",
            "Epoch 124/200\n",
            "20/20 [==============================] - 0s 4ms/step - loss: 0.3435 - accuracy: 0.8438 - val_loss: 0.2544 - val_accuracy: 0.8750\n",
            "Epoch 125/200\n",
            "20/20 [==============================] - 0s 4ms/step - loss: 0.3039 - accuracy: 0.8958 - val_loss: 0.2533 - val_accuracy: 0.8750\n",
            "Epoch 126/200\n",
            "20/20 [==============================] - 0s 4ms/step - loss: 0.3109 - accuracy: 0.8542 - val_loss: 0.2463 - val_accuracy: 0.8750\n",
            "Epoch 127/200\n",
            "20/20 [==============================] - 0s 4ms/step - loss: 0.4148 - accuracy: 0.8333 - val_loss: 0.2478 - val_accuracy: 0.8750\n",
            "Epoch 128/200\n",
            "20/20 [==============================] - 0s 4ms/step - loss: 0.3928 - accuracy: 0.8021 - val_loss: 0.2490 - val_accuracy: 0.8750\n",
            "Epoch 129/200\n",
            "20/20 [==============================] - 0s 3ms/step - loss: 0.3310 - accuracy: 0.8750 - val_loss: 0.2417 - val_accuracy: 0.9167\n",
            "Epoch 130/200\n",
            "20/20 [==============================] - 0s 3ms/step - loss: 0.4130 - accuracy: 0.8125 - val_loss: 0.2546 - val_accuracy: 0.9167\n",
            "Epoch 131/200\n",
            "20/20 [==============================] - 0s 3ms/step - loss: 0.3412 - accuracy: 0.8542 - val_loss: 0.2392 - val_accuracy: 0.8750\n",
            "Epoch 132/200\n",
            "20/20 [==============================] - 0s 4ms/step - loss: 0.3185 - accuracy: 0.8542 - val_loss: 0.2357 - val_accuracy: 0.9167\n",
            "Epoch 133/200\n",
            "20/20 [==============================] - 0s 4ms/step - loss: 0.3967 - accuracy: 0.8438 - val_loss: 0.2366 - val_accuracy: 0.9167\n",
            "Epoch 134/200\n",
            "20/20 [==============================] - 0s 4ms/step - loss: 0.2500 - accuracy: 0.9479 - val_loss: 0.2360 - val_accuracy: 0.9167\n",
            "Epoch 135/200\n",
            "20/20 [==============================] - 0s 4ms/step - loss: 0.3350 - accuracy: 0.8750 - val_loss: 0.2340 - val_accuracy: 0.9167\n",
            "Epoch 136/200\n",
            "20/20 [==============================] - 0s 3ms/step - loss: 0.3542 - accuracy: 0.8646 - val_loss: 0.2453 - val_accuracy: 0.9167\n",
            "Epoch 137/200\n",
            "20/20 [==============================] - 0s 4ms/step - loss: 0.3914 - accuracy: 0.8542 - val_loss: 0.2629 - val_accuracy: 0.9167\n",
            "Epoch 138/200\n",
            "20/20 [==============================] - 0s 3ms/step - loss: 0.3244 - accuracy: 0.8750 - val_loss: 0.2445 - val_accuracy: 0.9167\n",
            "Epoch 139/200\n",
            "20/20 [==============================] - 0s 3ms/step - loss: 0.4463 - accuracy: 0.8229 - val_loss: 0.2520 - val_accuracy: 0.9167\n",
            "Epoch 140/200\n",
            "20/20 [==============================] - 0s 4ms/step - loss: 0.3224 - accuracy: 0.8750 - val_loss: 0.2426 - val_accuracy: 0.9167\n",
            "Epoch 141/200\n",
            "20/20 [==============================] - 0s 4ms/step - loss: 0.3082 - accuracy: 0.8750 - val_loss: 0.2324 - val_accuracy: 0.9167\n",
            "Epoch 142/200\n",
            "20/20 [==============================] - 0s 3ms/step - loss: 0.3615 - accuracy: 0.8438 - val_loss: 0.2290 - val_accuracy: 0.9167\n",
            "Epoch 143/200\n",
            "20/20 [==============================] - 0s 4ms/step - loss: 0.3442 - accuracy: 0.8750 - val_loss: 0.2448 - val_accuracy: 0.9167\n",
            "Epoch 144/200\n",
            "20/20 [==============================] - 0s 4ms/step - loss: 0.3676 - accuracy: 0.8333 - val_loss: 0.2405 - val_accuracy: 0.9167\n",
            "Epoch 145/200\n",
            "20/20 [==============================] - 0s 4ms/step - loss: 0.3784 - accuracy: 0.8438 - val_loss: 0.2335 - val_accuracy: 0.9167\n",
            "Epoch 146/200\n",
            "20/20 [==============================] - 0s 4ms/step - loss: 0.3560 - accuracy: 0.8646 - val_loss: 0.2369 - val_accuracy: 0.9167\n",
            "Epoch 147/200\n",
            "20/20 [==============================] - 0s 4ms/step - loss: 0.4883 - accuracy: 0.7917 - val_loss: 0.4332 - val_accuracy: 0.7083\n",
            "Epoch 148/200\n",
            "20/20 [==============================] - 0s 4ms/step - loss: 0.3935 - accuracy: 0.8542 - val_loss: 0.2452 - val_accuracy: 0.8750\n",
            "Epoch 149/200\n",
            "20/20 [==============================] - 0s 4ms/step - loss: 0.3443 - accuracy: 0.8542 - val_loss: 0.2393 - val_accuracy: 0.9167\n",
            "Epoch 150/200\n",
            "20/20 [==============================] - 0s 4ms/step - loss: 0.4180 - accuracy: 0.8125 - val_loss: 0.2365 - val_accuracy: 0.9167\n",
            "Epoch 151/200\n",
            "20/20 [==============================] - 0s 4ms/step - loss: 0.3083 - accuracy: 0.8750 - val_loss: 0.2387 - val_accuracy: 0.9167\n",
            "Epoch 152/200\n",
            "20/20 [==============================] - 0s 4ms/step - loss: 0.4183 - accuracy: 0.8125 - val_loss: 0.2593 - val_accuracy: 0.9167\n",
            "Epoch 153/200\n",
            "20/20 [==============================] - 0s 4ms/step - loss: 0.3430 - accuracy: 0.8646 - val_loss: 0.2320 - val_accuracy: 0.9167\n",
            "Epoch 154/200\n",
            "20/20 [==============================] - 0s 4ms/step - loss: 0.3607 - accuracy: 0.8438 - val_loss: 0.2349 - val_accuracy: 0.9167\n",
            "Epoch 155/200\n",
            "20/20 [==============================] - 0s 4ms/step - loss: 0.2950 - accuracy: 0.8854 - val_loss: 0.2278 - val_accuracy: 0.9167\n",
            "Epoch 156/200\n",
            "20/20 [==============================] - 0s 3ms/step - loss: 0.3483 - accuracy: 0.8646 - val_loss: 0.2210 - val_accuracy: 0.9167\n",
            "Epoch 157/200\n",
            "20/20 [==============================] - 0s 4ms/step - loss: 0.4254 - accuracy: 0.8021 - val_loss: 0.2174 - val_accuracy: 0.9167\n",
            "Epoch 158/200\n",
            "20/20 [==============================] - 0s 4ms/step - loss: 0.3260 - accuracy: 0.8542 - val_loss: 0.2165 - val_accuracy: 0.8750\n",
            "Epoch 159/200\n",
            "20/20 [==============================] - 0s 4ms/step - loss: 0.3267 - accuracy: 0.8854 - val_loss: 0.2382 - val_accuracy: 0.9167\n",
            "Epoch 160/200\n",
            "20/20 [==============================] - 0s 3ms/step - loss: 0.4487 - accuracy: 0.8021 - val_loss: 0.2187 - val_accuracy: 0.9167\n",
            "Epoch 161/200\n",
            "20/20 [==============================] - 0s 4ms/step - loss: 0.2675 - accuracy: 0.8750 - val_loss: 0.2306 - val_accuracy: 0.9167\n",
            "Epoch 162/200\n",
            "20/20 [==============================] - 0s 3ms/step - loss: 0.4444 - accuracy: 0.8125 - val_loss: 0.2166 - val_accuracy: 0.8750\n",
            "Epoch 163/200\n",
            "20/20 [==============================] - 0s 3ms/step - loss: 0.3750 - accuracy: 0.8438 - val_loss: 0.2191 - val_accuracy: 0.9167\n",
            "Epoch 164/200\n",
            "20/20 [==============================] - 0s 4ms/step - loss: 0.3168 - accuracy: 0.8438 - val_loss: 0.2160 - val_accuracy: 0.9167\n",
            "Epoch 165/200\n",
            "20/20 [==============================] - 0s 3ms/step - loss: 0.3468 - accuracy: 0.8750 - val_loss: 0.2164 - val_accuracy: 0.9167\n",
            "Epoch 166/200\n",
            "20/20 [==============================] - 0s 3ms/step - loss: 0.2602 - accuracy: 0.9271 - val_loss: 0.2201 - val_accuracy: 0.9167\n",
            "Epoch 167/200\n",
            "20/20 [==============================] - 0s 4ms/step - loss: 0.3330 - accuracy: 0.8750 - val_loss: 0.2102 - val_accuracy: 0.9167\n",
            "Epoch 168/200\n",
            "20/20 [==============================] - 0s 4ms/step - loss: 0.4468 - accuracy: 0.8125 - val_loss: 0.2157 - val_accuracy: 0.8750\n",
            "Epoch 169/200\n",
            "20/20 [==============================] - 0s 4ms/step - loss: 0.2837 - accuracy: 0.8854 - val_loss: 0.2144 - val_accuracy: 0.8750\n",
            "Epoch 170/200\n",
            "20/20 [==============================] - 0s 3ms/step - loss: 0.3671 - accuracy: 0.8542 - val_loss: 0.2188 - val_accuracy: 0.9167\n",
            "Epoch 171/200\n",
            "20/20 [==============================] - 0s 3ms/step - loss: 0.3033 - accuracy: 0.8958 - val_loss: 0.2156 - val_accuracy: 0.8750\n",
            "Epoch 172/200\n",
            "20/20 [==============================] - 0s 3ms/step - loss: 0.3673 - accuracy: 0.8438 - val_loss: 0.2205 - val_accuracy: 0.9167\n",
            "Epoch 173/200\n",
            "20/20 [==============================] - 0s 3ms/step - loss: 0.3932 - accuracy: 0.8542 - val_loss: 0.2250 - val_accuracy: 0.9167\n",
            "Epoch 174/200\n",
            "20/20 [==============================] - 0s 3ms/step - loss: 0.3462 - accuracy: 0.8542 - val_loss: 0.2205 - val_accuracy: 0.9167\n",
            "Epoch 175/200\n",
            "20/20 [==============================] - 0s 4ms/step - loss: 0.3271 - accuracy: 0.8750 - val_loss: 0.2197 - val_accuracy: 0.8750\n",
            "Epoch 176/200\n",
            "20/20 [==============================] - 0s 4ms/step - loss: 0.3292 - accuracy: 0.8438 - val_loss: 0.2206 - val_accuracy: 0.9167\n",
            "Epoch 177/200\n",
            "20/20 [==============================] - 0s 4ms/step - loss: 0.3386 - accuracy: 0.9062 - val_loss: 0.2159 - val_accuracy: 0.8750\n",
            "Epoch 178/200\n",
            "20/20 [==============================] - 0s 4ms/step - loss: 0.3370 - accuracy: 0.8333 - val_loss: 0.2175 - val_accuracy: 0.9167\n",
            "Epoch 179/200\n",
            "20/20 [==============================] - 0s 4ms/step - loss: 0.3681 - accuracy: 0.8229 - val_loss: 0.2216 - val_accuracy: 0.9167\n",
            "Epoch 180/200\n",
            "20/20 [==============================] - 0s 4ms/step - loss: 0.3634 - accuracy: 0.8542 - val_loss: 0.2202 - val_accuracy: 0.9167\n",
            "Epoch 181/200\n",
            "20/20 [==============================] - 0s 4ms/step - loss: 0.3652 - accuracy: 0.8646 - val_loss: 0.2203 - val_accuracy: 0.9167\n",
            "Epoch 182/200\n",
            "20/20 [==============================] - 0s 4ms/step - loss: 0.3767 - accuracy: 0.8438 - val_loss: 0.2524 - val_accuracy: 0.9167\n",
            "Epoch 183/200\n",
            "20/20 [==============================] - 0s 3ms/step - loss: 0.2951 - accuracy: 0.9062 - val_loss: 0.2233 - val_accuracy: 0.9167\n",
            "Epoch 184/200\n",
            "20/20 [==============================] - 0s 4ms/step - loss: 0.3511 - accuracy: 0.8542 - val_loss: 0.2233 - val_accuracy: 0.9167\n",
            "Epoch 185/200\n",
            "20/20 [==============================] - 0s 3ms/step - loss: 0.3764 - accuracy: 0.8229 - val_loss: 0.2233 - val_accuracy: 0.9167\n",
            "Epoch 186/200\n",
            "20/20 [==============================] - 0s 3ms/step - loss: 0.2976 - accuracy: 0.8854 - val_loss: 0.2150 - val_accuracy: 0.9167\n",
            "Epoch 187/200\n",
            "20/20 [==============================] - 0s 4ms/step - loss: 0.2756 - accuracy: 0.8854 - val_loss: 0.2076 - val_accuracy: 0.9167\n",
            "Epoch 188/200\n",
            "20/20 [==============================] - 0s 3ms/step - loss: 0.3489 - accuracy: 0.8333 - val_loss: 0.2144 - val_accuracy: 0.9167\n",
            "Epoch 189/200\n",
            "20/20 [==============================] - 0s 4ms/step - loss: 0.3432 - accuracy: 0.8750 - val_loss: 0.2106 - val_accuracy: 0.9167\n",
            "Epoch 190/200\n",
            "20/20 [==============================] - 0s 4ms/step - loss: 0.3559 - accuracy: 0.8646 - val_loss: 0.2104 - val_accuracy: 0.9167\n",
            "Epoch 191/200\n",
            "20/20 [==============================] - 0s 3ms/step - loss: 0.3146 - accuracy: 0.8750 - val_loss: 0.2167 - val_accuracy: 0.9167\n",
            "Epoch 192/200\n",
            "20/20 [==============================] - 0s 4ms/step - loss: 0.3603 - accuracy: 0.8542 - val_loss: 0.2243 - val_accuracy: 0.9167\n",
            "Epoch 193/200\n",
            "20/20 [==============================] - 0s 3ms/step - loss: 0.2880 - accuracy: 0.8958 - val_loss: 0.2105 - val_accuracy: 0.9167\n",
            "Epoch 194/200\n",
            "20/20 [==============================] - 0s 4ms/step - loss: 0.2980 - accuracy: 0.8750 - val_loss: 0.2053 - val_accuracy: 0.9583\n",
            "Epoch 195/200\n",
            "20/20 [==============================] - 0s 4ms/step - loss: 0.3430 - accuracy: 0.8750 - val_loss: 0.2119 - val_accuracy: 0.9167\n",
            "Epoch 196/200\n",
            "20/20 [==============================] - 0s 4ms/step - loss: 0.3817 - accuracy: 0.8438 - val_loss: 0.2050 - val_accuracy: 0.9583\n",
            "Epoch 197/200\n",
            "20/20 [==============================] - 0s 3ms/step - loss: 0.2660 - accuracy: 0.8958 - val_loss: 0.2057 - val_accuracy: 0.9167\n",
            "Epoch 198/200\n",
            "20/20 [==============================] - 0s 3ms/step - loss: 0.2960 - accuracy: 0.8958 - val_loss: 0.2054 - val_accuracy: 0.9167\n",
            "Epoch 199/200\n",
            "20/20 [==============================] - 0s 3ms/step - loss: 0.3686 - accuracy: 0.8229 - val_loss: 0.2046 - val_accuracy: 0.9167\n",
            "Epoch 200/200\n",
            "20/20 [==============================] - 0s 4ms/step - loss: 0.3282 - accuracy: 0.8646 - val_loss: 0.2055 - val_accuracy: 0.9167\n"
          ]
        }
      ],
      "source": [
        "# Train the model\n",
        "history=model.fit(train_x ,train_y ,batch_size = 5 ,epochs = 200  ,validation_split = 0.2)"
      ]
    },
    {
      "cell_type": "markdown",
      "metadata": {
        "id": "zuVMfcOmNIc7"
      },
      "source": [
        "# <div style=\"direction:rtl;text-align:right;font-family:B Lotus, B Nazanin, Tahoma\">سوال 4:</div>\n",
        "<div style=\"direction:rtl;text-align:right;font-family:Tahoma\">\n",
        "مدل را روی داده های test ارزیابی کنید.\n",
        "<br>\n",
        "<b>راهنمایی: </b>\n",
        "از تابع model.evaluate استفاده کنید.\n",
        "</div>"
      ]
    },
    {
      "cell_type": "code",
      "execution_count": 34,
      "metadata": {
        "colab": {
          "base_uri": "https://localhost:8080/"
        },
        "id": "QepcnohqNIc8",
        "outputId": "0c8869dd-50a0-4846-a249-971ef209748d"
      },
      "outputs": [
        {
          "output_type": "stream",
          "name": "stdout",
          "text": [
            "1/1 [==============================] - 0s 26ms/step - loss: 0.1727 - accuracy: 0.9667\n",
            "Final test set loss: 0.172719\n",
            "Final test set accuracy: 0.966667\n"
          ]
        }
      ],
      "source": [
        "# Test on unseen data\n",
        "results = model.evaluate(test_x, test_y)\n",
        "\n",
        "print('Final test set loss: {:4f}'.format(results[0]))\n",
        "print('Final test set accuracy: {:4f}'.format(results[1]))"
      ]
    },
    {
      "cell_type": "markdown",
      "source": [
        "# **Visualize Training Process**"
      ],
      "metadata": {
        "id": "10INglFekUaU"
      }
    },
    {
      "cell_type": "code",
      "source": [
        "import pandas as pd\n",
        "\n",
        "pd.DataFrame(history.history).plot()"
      ],
      "metadata": {
        "colab": {
          "base_uri": "https://localhost:8080/",
          "height": 282
        },
        "id": "Y6judmNnkTeb",
        "outputId": "9bb650f9-7a17-4b5e-a6ad-a52e69eeee21"
      },
      "execution_count": 38,
      "outputs": [
        {
          "output_type": "execute_result",
          "data": {
            "text/plain": [
              "<matplotlib.axes._subplots.AxesSubplot at 0x7f1f22043c50>"
            ]
          },
          "metadata": {},
          "execution_count": 38
        },
        {
          "output_type": "display_data",
          "data": {
            "image/png": "[encoded data removed]",
            "text/plain": [
              "<Figure size 432x288 with 1 Axes>"
            ]
          },
          "metadata": {
            "needs_background": "light"
          }
        }
      ]
    },
    {
      "cell_type": "markdown",
      "metadata": {
        "id": "ik6nDS86NIc9"
      },
      "source": [
        "<div class=\"alert alert-block alert-info\">\n",
        "<div style=\"direction:rtl;text-align:right;font-family:B Lotus, B Nazanin, Tahoma\"> دوره مقدماتی یادگیری عمیق<br>علیرضا اخوان پور<br>پنج شنبه، ۱۸ و ۲۵ بهمن ۱۳۹۷<br>\n",
        "</div>\n",
        "<a href=\"http://class.vision\">Class.Vision</a> - <a href=\"http://AkhavanPour.ir\">AkhavanPour.ir</a> - <a href=\"https://github.com/Alireza-Akhavan/\">GitHub</a>\n",
        "\n",
        "</div>"
      ]
    }
  ],
  "metadata": {
    "kernelspec": {
      "display_name": "tensorflow",
      "language": "python",
      "name": "tensorflow"
    },
    "language_info": {
      "codemirror_mode": {
        "name": "ipython",
        "version": 3
      },
      "file_extension": ".py",
      "mimetype": "text/x-python",
      "name": "python",
      "nbconvert_exporter": "python",
      "pygments_lexer": "ipython3",
      "version": "3.6.8"
    },
    "colab": {
      "name": "IRIS.ipynb",
      "provenance": [],
      "collapsed_sections": [],
      "include_colab_link": true
    }
  },
  "nbformat": 4,
  "nbformat_minor": 0
}