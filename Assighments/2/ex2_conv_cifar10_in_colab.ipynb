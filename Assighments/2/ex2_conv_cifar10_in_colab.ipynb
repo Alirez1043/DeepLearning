{
  "cells": [
    {
      "cell_type": "markdown",
      "metadata": {
        "id": "view-in-github",
        "colab_type": "text"
      },
      "source": [
        "<a href=\"https://colab.research.google.com/github/Alirez1043/DeepLearning/blob/main/Assighments/2/ex2_conv_cifar10_in_colab.ipynb\" target=\"_parent\"><img src=\"https://colab.research.google.com/assets/colab-badge.svg\" alt=\"Open In Colab\"/></a>"
      ]
    },
    {
      "cell_type": "markdown",
      "metadata": {
        "id": "JtYWm78yxzT4"
      },
      "source": [
        "<center><div style=\"direction:rtl;font-family:B Lotus, B Nazanin, Tahoma\">به نام خدا</div></center>\n",
        "\n",
        "<h1><center><div style=\"direction:rtl;font-family:B Lotus, B Nazanin, Tahoma\">تمرین عملی 2: طبقه بندی تصاویر Cifar10 با شبکه های کانولوشنالی روی googleColab</div></center></h1>\n",
        "\n",
        "[![Run in Google Colab](./images/colab.png)](https://colab.research.google.com/github/alireza-akhavan/SRU-deeplearning-workshop/blob/master/homework/ex2-conv-cifar10-in-colab.ipynb)"
      ]
    },
    {
      "cell_type": "markdown",
      "metadata": {
        "id": "X9s6w3jxxzT9"
      },
      "source": [
        "## <div style=\"direction:rtl;text-align:right;font-family:B Lotus, B Nazanin, Tahoma\">صورت مساله</div>\n",
        "\n",
        "\n",
        "<div style=\"direction:rtl;text-align:right;font-family:Tahoma\">\n",
        "با شبکه های کانولوشنالی آشنا شدیم<br>\n",
        "توصیه می‌شود حتما بعد از تمرین اول این تمرین را حل کنید و قبل از این تمرین نوت بوک زیر را  مرور کنید:\n",
        "</div>\n",
        "\n",
        "[06_ConvolutionalNeuralNetwork-Hoda-Keras.ipynb ](https://nbviewer.jupyter.org/github/alireza-akhavan/SRU-deeplearning-workshop/blob/master/06_ConvolutionalNeuralNetwork-Hoda-Keras.ipynb)\n",
        "\n",
        "<div style=\"direction:rtl;text-align:right;font-family:Tahoma\">\n",
        "در این تمرین از مجموعه داده تصویری cifar10 استفاده خواهیم کرد. \n",
        "<br>\n",
        "خیلی از اوقات ممکنه دسترسی به GPU نداشته باشیم. حخوشبختانه سرویس های آنلاین و رایگانی هستند که توان محاسباتی رایگان در اختیارمان میگذراند. در این تمرین از شما خواسته شده که این نوت بوک را در گوگل کولب اجرا کنید.\n",
        "<br>\n",
        " قبلا در مورد گوگل کولب دو پست آموزشی نوشته شده است که در صورت تمایل به کسب اطلاعات بیشتر میتوانید بخوانید.\n",
        "    اما برای اجرا این تمرین نیازی به این جزئیات نخواهید داشت.\n",
        "</div>\n",
        "\n",
        "[آشنایی با سرویس ابری Google Colab ](http://blog.class.vision/1397/02/google-colab/)\n",
        "\n",
        "[اتصال مستقیم سرویس کولب (Google Colab) به درایو (Google Drive) از طریق فایل سیستم FUSE ](http://blog.class.vision/1397/04/%D8%A7%D8%AA%D8%B5%D8%A7%D9%84-%D9%85%D8%B3%D8%AA%D9%82%DB%8C%D9%85-%D8%B3%D8%B1%D9%88%DB%8C%D8%B3-%DA%A9%D9%88%D9%84%D8%A8-google-colab-%D8%A8%D9%87-%D8%AF%D8%B1%D8%A7%DB%8C%D9%88-google-drive/)\n"
      ]
    },
    {
      "cell_type": "markdown",
      "metadata": {
        "id": "eZ9d2bUAxzT_"
      },
      "source": [
        "## <div style=\"direction:rtl;text-align:right;font-family:B Lotus, B Nazanin, Tahoma\">لود کتابخانه های مورد نیاز </div>\n",
        "<div style=\"direction:rtl;text-align:right;font-family:Tahoma\">\n",
        "کتابخانه های مورد نیاز این تمرین لود شده اند\n",
        "<br>\n",
        "در صورت نیاز میتوانید کتابخانه های بیشتری لود کنید:\n",
        "</div>"
      ]
    },
    {
      "cell_type": "code",
      "execution_count": null,
      "metadata": {
        "id": "2lZcHC2vxzUA"
      },
      "outputs": [],
      "source": [
        "from tensorflow import keras\n",
        "from keras.models import Sequential\n",
        "from keras.layers import Dense, Flatten, Dropout\n",
        "from keras.layers import Conv2D, MaxPooling2D\n",
        "from keras.datasets import cifar10\n",
        "import numpy as np\n",
        "import matplotlib.pyplot as plt\n"
      ]
    },
    {
      "cell_type": "markdown",
      "metadata": {
        "id": "XlG2XSVLxzUE"
      },
      "source": [
        "## <div style=\"direction:rtl;text-align:right;font-family:B Lotus, B Nazanin, Tahoma\">مجموعه داده ی Cifar10 </div>\n",
        "<div style=\"direction:rtl;text-align:right;font-family:Tahoma\">\n",
        "<br>\n",
        "این مجموعه داده تصاویر رنگی در اندازه ی 32 در 32 و در 10 کلاس مختلف شامل ماشین، کامیون، اسب و ... است که در چارچوب کراس موجود است و از همان استفاده میکنیم.\n",
        "<br>\n",
        "اطلاعات بیشتر در مورد این مجموعه داده را از سایت این مجموعه داده میتوانید مطالعه کنید:\n",
        "<br>\n",
        "</div>\n",
        "\n",
        "https://www.cs.toronto.edu/~kriz/cifar.html"
      ]
    },
    {
      "cell_type": "code",
      "execution_count": null,
      "metadata": {
        "id": "XN9k4qbrxzUF",
        "colab": {
          "base_uri": "https://localhost:8080/"
        },
        "outputId": "ea507f74-3a69-4ce6-94ee-d633484a71e1"
      },
      "outputs": [
        {
          "output_type": "stream",
          "name": "stdout",
          "text": [
            "Downloading data from https://www.cs.toronto.edu/~kriz/cifar-10-python.tar.gz\n",
            "170500096/170498071 [==============================] - 2s 0us/step\n",
            "170508288/170498071 [==============================] - 2s 0us/step\n"
          ]
        }
      ],
      "source": [
        "(x_train, y_train), (x_test, y_test) = cifar10.load_data()"
      ]
    },
    {
      "cell_type": "markdown",
      "metadata": {
        "id": "dWfZEyrPxzUG"
      },
      "source": [
        "## <div style=\"direction:rtl;text-align:right;font-family:B Lotus, B Nazanin, Tahoma\">نگاهی به مجموعه داده بیندازیم...</div>\n",
        "<div style=\"direction:rtl;text-align:right;font-family:Tahoma\">\n",
        "در زیر تصویری که در اندیس 7-ام این مجموعه داده قرار دارد را مشاهده می‌کنیم. این شماره را را به دلخوه عوض کنید و چند تصویر دیگر این مجموعه داده را ببینید.\n",
        "</div>\n"
      ]
    },
    {
      "cell_type": "code",
      "execution_count": null,
      "metadata": {
        "colab": {
          "base_uri": "https://localhost:8080/",
          "height": 283
        },
        "id": "Tc_xfFMpxzUI",
        "outputId": "a906a460-238a-4f9d-f2cf-44d2503275dd"
      },
      "outputs": [
        {
          "output_type": "execute_result",
          "data": {
            "text/plain": [
              "(50000, 32, 32, 3)"
            ]
          },
          "metadata": {},
          "execution_count": 3
        },
        {
          "output_type": "display_data",
          "data": {
            "image/png": "[encoded data removed]",
            "text/plain": [
              "<Figure size 432x288 with 1 Axes>"
            ]
          },
          "metadata": {
            "needs_background": "light"
          }
        }
      ],
      "source": [
        "plt.imshow(x_train[1380])\n",
        "x_train[29].shape\n",
        "x_train.shape"
      ]
    },
    {
      "cell_type": "markdown",
      "metadata": {
        "id": "4zefJ4-BxzUJ"
      },
      "source": [
        "# <div style=\"direction:rtl;text-align:right;font-family:B Lotus, B Nazanin, Tahoma\">سوال 1:</div>\n",
        "<div style=\"direction:rtl;text-align:right;font-family:Tahoma\">\n",
        "ماتریس های تصویر را تبدیل به نوع داده ای float32 کنید و مقادیر پیکسل ها را نرمال کنید و بین 0 و 1 بیاورید.\n",
        "<br>\n",
        "<b>راهنمایی: </b>\n",
        "شما باید متد astype را صدا بزنید و در نهایت مقادیر پیکسل ها را تقسیم بر 255 کنید.</div>"
      ]
    },
    {
      "cell_type": "code",
      "execution_count": null,
      "metadata": {
        "id": "scVgTGF9xzUK"
      },
      "outputs": [],
      "source": [
        "x_train = x_train.astype(\"float32\")\n",
        "x_test =  x_test.astype(\"float32\")\n",
        "x_train = x_train/255\n",
        "x_test = x_test/255"
      ]
    },
    {
      "cell_type": "code",
      "source": [
        "plt.imshow(x_train[138])"
      ],
      "metadata": {
        "colab": {
          "base_uri": "https://localhost:8080/",
          "height": 283
        },
        "id": "hzjvwatc1qGW",
        "outputId": "5fadc5f0-1b85-4825-cbf6-787e1807c465"
      },
      "execution_count": null,
      "outputs": [
        {
          "output_type": "execute_result",
          "data": {
            "text/plain": [
              "<matplotlib.image.AxesImage at 0x7ffb3195a690>"
            ]
          },
          "metadata": {},
          "execution_count": 5
        },
        {
          "output_type": "display_data",
          "data": {
            "image/png": "[encoded data removed]",
            "text/plain": [
              "<Figure size 432x288 with 1 Axes>"
            ]
          },
          "metadata": {
            "needs_background": "light"
          }
        }
      ]
    },
    {
      "cell_type": "markdown",
      "metadata": {
        "id": "_QUu0_GVxzUL"
      },
      "source": [
        "# <div style=\"direction:rtl;text-align:right;font-family:B Lotus, B Nazanin, Tahoma\">سوال 2:</div>\n",
        "<div style=\"direction:rtl;text-align:right;font-family:Tahoma\">\n",
        "همان طور که میبینید لیبل ها از نوع عددی هستند. آن ها را تبدیل به فرمت one-hot کنید.<br>\n",
        "</div>\n"
      ]
    },
    {
      "cell_type": "markdown",
      "metadata": {
        "id": "seWRTfOBxzUL"
      },
      "source": [
        "<hr>\n",
        "<div style=\"direction:rtl;text-align:right;font-family:Tahoma\">\n",
        "تعدادی از لیبل ها قبل از تبدیل به فرمت one-hot:</div>"
      ]
    },
    {
      "cell_type": "code",
      "execution_count": null,
      "metadata": {
        "colab": {
          "base_uri": "https://localhost:8080/"
        },
        "id": "lpetSO2gxzUM",
        "outputId": "c1d9ff59-3a3c-414a-d417-9ae2d3447822"
      },
      "outputs": [
        {
          "output_type": "execute_result",
          "data": {
            "text/plain": [
              "array([[6],\n",
              "       [9],\n",
              "       [9],\n",
              "       [4],\n",
              "       [1],\n",
              "       [1],\n",
              "       [2],\n",
              "       [7],\n",
              "       [8],\n",
              "       [3],\n",
              "       [4],\n",
              "       [7],\n",
              "       [7],\n",
              "       [2],\n",
              "       [9]], dtype=uint8)"
            ]
          },
          "metadata": {},
          "execution_count": 6
        }
      ],
      "source": [
        "y_train[0:15]"
      ]
    },
    {
      "cell_type": "code",
      "execution_count": null,
      "metadata": {
        "id": "hKrkRevbxzUN"
      },
      "outputs": [],
      "source": [
        "y_train = keras.utils.to_categorical(y_train ,num_classes = 10)\n",
        "y_test =  keras.utils.to_categorical(y_test ,num_classes = 10)"
      ]
    },
    {
      "cell_type": "markdown",
      "metadata": {
        "id": "L2vMIJ3gxzUN"
      },
      "source": [
        "<div style=\"direction:rtl;text-align:right;font-family:Tahoma\">\n",
        "تعدادی از لیبل ها بعد از تبدیل به فرمت one-hot:</div>"
      ]
    },
    {
      "cell_type": "code",
      "execution_count": null,
      "metadata": {
        "id": "fcZIuIIsxzUO",
        "outputId": "34204fec-916b-4b1b-b53a-24df520bf557",
        "colab": {
          "base_uri": "https://localhost:8080/"
        }
      },
      "outputs": [
        {
          "output_type": "execute_result",
          "data": {
            "text/plain": [
              "array([[0., 0., 0., 0., 0., 0., 1., 0., 0., 0.],\n",
              "       [0., 0., 0., 0., 0., 0., 0., 0., 0., 1.],\n",
              "       [0., 0., 0., 0., 0., 0., 0., 0., 0., 1.],\n",
              "       [0., 0., 0., 0., 1., 0., 0., 0., 0., 0.],\n",
              "       [0., 1., 0., 0., 0., 0., 0., 0., 0., 0.],\n",
              "       [0., 1., 0., 0., 0., 0., 0., 0., 0., 0.],\n",
              "       [0., 0., 1., 0., 0., 0., 0., 0., 0., 0.],\n",
              "       [0., 0., 0., 0., 0., 0., 0., 1., 0., 0.],\n",
              "       [0., 0., 0., 0., 0., 0., 0., 0., 1., 0.],\n",
              "       [0., 0., 0., 1., 0., 0., 0., 0., 0., 0.]], dtype=float32)"
            ]
          },
          "metadata": {},
          "execution_count": 8
        }
      ],
      "source": [
        "y_train[0:10]"
      ]
    },
    {
      "cell_type": "code",
      "source": [
        "x_train.reshape(-1 ,32 ,32 ,3).shape"
      ],
      "metadata": {
        "colab": {
          "base_uri": "https://localhost:8080/"
        },
        "id": "KudieguOSIF7",
        "outputId": "c30b8ad3-18ca-467f-8fe7-f52b7213d4c7"
      },
      "execution_count": null,
      "outputs": [
        {
          "output_type": "execute_result",
          "data": {
            "text/plain": [
              "(50000, 32, 32, 3)"
            ]
          },
          "metadata": {},
          "execution_count": 9
        }
      ]
    },
    {
      "cell_type": "markdown",
      "metadata": {
        "id": "v8yFkrZNxzUP"
      },
      "source": [
        "# <div style=\"direction:rtl;text-align:right;font-family:B Lotus, B Nazanin, Tahoma\">سوال 3:</div>\n",
        "<div style=\"direction:rtl;text-align:right;font-family:Tahoma\">\n",
        "یک شبکه کانولوشنالی با معماری زیر بسازید:\n",
        "<ul>\n",
        "    <li>\n",
        "    یک لایه کانولوشنی با32 فیلتر با سایز فیلتر 3x3 و تابع فعالیت relu\n",
        "    </li>\n",
        "    <li>\n",
        "    لایه ی pooling با pool_size=(2,2)\n",
        "    </li>\n",
        "    <li>\n",
        "    یک لایه کانولوشنی با32 فیلتر با سایز فیلتر 3x3 و تابع فعالیت relu\n",
        "    </li>\n",
        "    <li>\n",
        "    لایه ی pooling با pool_size=(2,2)\n",
        "    </li>\n",
        "    <li>\n",
        "    یک لایه کانولوشنی با64 فیلتر با سایز فیلتر 3x3 و تابع فعالیت relu\n",
        "    </li>\n",
        "    <li>\n",
        "    لایه ی pooling با pool_size=(2,2)\n",
        "    </li>\n",
        "    <li>\n",
        "    استفاده از لایه ی Flatten() . به نظرتون چرا؟\n",
        "    </li>    \n",
        "    <li>\n",
        "    یک لایه Dropout با ترخ 0.5.\n",
        "    </li>\n",
        "    <li>\n",
        "    یک لایه softmax برای احتمالات خروجی. به نظرتون این لایه چند نوران میخواهد؟\n",
        "    </li>    \n",
        " \n",
        "</ul>\n",
        "</div>\n"
      ]
    },
    {
      "cell_type": "code",
      "execution_count": null,
      "metadata": {
        "id": "s6f8saKKxzUQ"
      },
      "outputs": [],
      "source": [
        "model = Sequential()\n",
        "model.add(Conv2D(50 ,(2,2) ,activation = 'relu' ,input_shape=(32, 32, 3)))\n",
        "model.add(MaxPooling2D((2,2)))\n",
        "model.add(Conv2D(50 ,(2,2) ,activation = 'relu'))\n",
        "model.add(MaxPooling2D((2,2)))\n",
        "model.add(Conv2D(60 ,(3,3) ,activation = 'relu'))\n",
        "model.add(MaxPooling2D((2,2)))\n",
        "model.add(Conv2D(80 ,(1,1) ,activation = 'relu'))\n",
        "model.add(Conv2D(100 ,(1,1) ,activation = 'relu'))\n",
        "model.add(MaxPooling2D((2,2)))\n",
        "model.add(Flatten())\n",
        "model.add(Dense(200 , activation = 'relu'))\n",
        "model.add(Dense(100 ,activation = 'relu'))\n",
        "model.add(Dropout(0.5))\n",
        "model.add(Dense(10 ,activation = 'softmax'))"
      ]
    },
    {
      "cell_type": "markdown",
      "metadata": {
        "id": "fSUcXi3sxzUR"
      },
      "source": [
        "# <div style=\"direction:rtl;text-align:right;font-family:B Lotus, B Nazanin, Tahoma\">سوال 4:</div>\n",
        "<div style=\"direction:rtl;text-align:right;font-family:Tahoma\">\n",
        "مدل را کامپایل کنید و به عنوان optimizer متغیر opt_rms به تابع ارسال کنید. </div>\n"
      ]
    },
    {
      "cell_type": "code",
      "execution_count": null,
      "metadata": {
        "id": "hyFfazJvxzUS"
      },
      "outputs": [],
      "source": [
        "opt_rms = keras.optimizers.RMSprop(learning_rate=0.001,decay=1e-6)\n",
        "model.compile(optimizer=opt_rms , loss = 'categorical_crossentropy' ,metrics = ['acc'])"
      ]
    },
    {
      "cell_type": "markdown",
      "metadata": {
        "id": "otbHOHN2xzUS"
      },
      "source": [
        "# <div style=\"direction:rtl;text-align:right;font-family:B Lotus, B Nazanin, Tahoma\">سوال 5:</div>\n",
        "<div style=\"direction:rtl;text-align:right;font-family:Tahoma\">\n",
        "با فراخوانی متد fit روی مدل آن را آموزش بدهید. برای سادگی25 ایپاک با سایز بچ 64 بزنید. \n",
        "    <br>\n",
        " به عنوان دیتای validation نیز x_test و y_test را ارسال کنید که در هر سری کارایی روی داده های تست اعلام شود.\n",
        "</div>"
      ]
    },
    {
      "cell_type": "code",
      "execution_count": null,
      "metadata": {
        "id": "rn9HQqBVxzUT",
        "outputId": "c393b37a-c291-47e4-b5c2-5b1e50eb1d5e",
        "colab": {
          "base_uri": "https://localhost:8080/"
        }
      },
      "outputs": [
        {
          "output_type": "stream",
          "name": "stdout",
          "text": [
            "Epoch 1/25\n",
            "1000/1000 [==============================] - 76s 74ms/step - loss: 1.9407 - acc: 0.2553 - val_loss: 1.7338 - val_acc: 0.3501\n",
            "Epoch 2/25\n",
            "1000/1000 [==============================] - 72s 72ms/step - loss: 1.6252 - acc: 0.3988 - val_loss: 1.4806 - val_acc: 0.4638\n",
            "Epoch 3/25\n",
            "1000/1000 [==============================] - 71s 71ms/step - loss: 1.4352 - acc: 0.4826 - val_loss: 1.3004 - val_acc: 0.5393\n",
            "Epoch 4/25\n",
            "1000/1000 [==============================] - 71s 71ms/step - loss: 1.3114 - acc: 0.5293 - val_loss: 1.2596 - val_acc: 0.5460\n",
            "Epoch 5/25\n",
            "1000/1000 [==============================] - 73s 73ms/step - loss: 1.2284 - acc: 0.5630 - val_loss: 1.1304 - val_acc: 0.5983\n",
            "Epoch 6/25\n",
            "1000/1000 [==============================] - 73s 73ms/step - loss: 1.1713 - acc: 0.5897 - val_loss: 1.1091 - val_acc: 0.6039\n",
            "Epoch 7/25\n",
            "1000/1000 [==============================] - 72s 72ms/step - loss: 1.1184 - acc: 0.6076 - val_loss: 1.1189 - val_acc: 0.6106\n",
            "Epoch 8/25\n",
            "1000/1000 [==============================] - 72s 72ms/step - loss: 1.0816 - acc: 0.6218 - val_loss: 1.0881 - val_acc: 0.6243\n",
            "Epoch 9/25\n",
            "1000/1000 [==============================] - 72s 72ms/step - loss: 1.0485 - acc: 0.6380 - val_loss: 1.1558 - val_acc: 0.6003\n",
            "Epoch 10/25\n",
            "1000/1000 [==============================] - 73s 73ms/step - loss: 1.0188 - acc: 0.6481 - val_loss: 1.1083 - val_acc: 0.6220\n",
            "Epoch 11/25\n",
            "1000/1000 [==============================] - 73s 73ms/step - loss: 0.9907 - acc: 0.6598 - val_loss: 1.0361 - val_acc: 0.6410\n",
            "Epoch 12/25\n",
            "1000/1000 [==============================] - 74s 74ms/step - loss: 0.9733 - acc: 0.6679 - val_loss: 1.0105 - val_acc: 0.6565\n",
            "Epoch 13/25\n",
            "1000/1000 [==============================] - 72s 72ms/step - loss: 0.9584 - acc: 0.6710 - val_loss: 0.9873 - val_acc: 0.6626\n",
            "Epoch 14/25\n",
            "1000/1000 [==============================] - 72s 72ms/step - loss: 0.9472 - acc: 0.6771 - val_loss: 1.0209 - val_acc: 0.6539\n",
            "Epoch 15/25\n",
            "1000/1000 [==============================] - 72s 72ms/step - loss: 0.9333 - acc: 0.6820 - val_loss: 1.0543 - val_acc: 0.6479\n",
            "Epoch 16/25\n",
            "1000/1000 [==============================] - 72s 72ms/step - loss: 0.9361 - acc: 0.6818 - val_loss: 1.0929 - val_acc: 0.6480\n",
            "Epoch 17/25\n",
            "1000/1000 [==============================] - 72s 72ms/step - loss: 0.9303 - acc: 0.6858 - val_loss: 1.0272 - val_acc: 0.6507\n",
            "Epoch 18/25\n",
            "1000/1000 [==============================] - 72s 72ms/step - loss: 0.9259 - acc: 0.6867 - val_loss: 1.0087 - val_acc: 0.6652\n",
            "Epoch 19/25\n",
            "1000/1000 [==============================] - 72s 72ms/step - loss: 0.9329 - acc: 0.6877 - val_loss: 1.0497 - val_acc: 0.6557\n",
            "Epoch 20/25\n",
            "1000/1000 [==============================] - 72s 72ms/step - loss: 0.9410 - acc: 0.6862 - val_loss: 1.1745 - val_acc: 0.6146\n",
            "Epoch 21/25\n",
            "1000/1000 [==============================] - 72s 72ms/step - loss: 0.9454 - acc: 0.6835 - val_loss: 1.0831 - val_acc: 0.6499\n",
            "Epoch 22/25\n",
            "1000/1000 [==============================] - 72s 72ms/step - loss: 0.9506 - acc: 0.6816 - val_loss: 1.1685 - val_acc: 0.6462\n",
            "Epoch 23/25\n",
            "1000/1000 [==============================] - 72s 72ms/step - loss: 0.9665 - acc: 0.6800 - val_loss: 1.1114 - val_acc: 0.6440\n",
            "Epoch 24/25\n",
            "1000/1000 [==============================] - 71s 71ms/step - loss: 0.9767 - acc: 0.6766 - val_loss: 1.0440 - val_acc: 0.6587\n",
            "Epoch 25/25\n",
            "1000/1000 [==============================] - 71s 71ms/step - loss: 0.9870 - acc: 0.6726 - val_loss: 1.1906 - val_acc: 0.6480\n"
          ]
        }
      ],
      "source": [
        "history = model.fit(x_train ,y_train ,batch_size = 50 ,epochs = 25  ,validation_data=(x_test ,y_test))\n",
        "\n"
      ]
    },
    {
      "cell_type": "markdown",
      "metadata": {
        "id": "Kgvc_BVYxzUT"
      },
      "source": [
        "# <div style=\"direction:rtl;text-align:right;font-family:B Lotus, B Nazanin, Tahoma\">سوال 6:</div>\n",
        "<div style=\"direction:rtl;text-align:right;font-family:Tahoma\">\n",
        "شبکه و هایپرپارامترهای این شبکه را به هر نحوی دوست دارید تغییر دهید تا دقت روی دادگان تست را به حداکثر برسانید.\n",
        "</div>\n"
      ]
    },
    {
      "cell_type": "markdown",
      "metadata": {
        "id": "ZBBA7DyRxzUU"
      },
      "source": [
        "<div class=\"alert alert-block alert-info\">\n",
        "<div style=\"direction:rtl;text-align:right;font-family:B Lotus, B Nazanin, Tahoma\"> دوره مقدماتی یادگیری عمیق<br>علیرضا اخوان پور<br>پنج شنبه، ۱۸ و ۲۵ بهمن ۱۳۹۷<br>\n",
        "</div>\n",
        "<a href=\"http://class.vision\">Class.Vision</a> - <a href=\"http://AkhavanPour.ir\">AkhavanPour.ir</a> - <a href=\"https://github.com/Alireza-Akhavan/\">GitHub</a>\n",
        "\n",
        "</div>"
      ]
    },
    {
      "cell_type": "code",
      "execution_count": null,
      "metadata": {
        "id": "E0CPKjgoxzUU",
        "colab": {
          "base_uri": "https://localhost:8080/"
        },
        "outputId": "cf25a161-bfc2-4652-d095-7269779a032b"
      },
      "outputs": [
        {
          "output_type": "stream",
          "name": "stdout",
          "text": [
            "fatal: destination path 'Machine-Learning' already exists and is not an empty directory.\n"
          ]
        }
      ],
      "source": [
        "!git clone https://github.com/Alirez1043/Machine-Learning.git\n"
      ]
    },
    {
      "cell_type": "code",
      "source": [
        "import sys\n",
        "sys.path.insert(1 ,\"Machine-Learning/Colab\")\n"
      ],
      "metadata": {
        "id": "9tF5i4AgCPqd"
      },
      "execution_count": null,
      "outputs": []
    },
    {
      "cell_type": "code",
      "source": [
        "import plot_history \n",
        "plot_history.plot_history(history ,save_fig = True ,fig_id = \"fig-3\")"
      ],
      "metadata": {
        "colab": {
          "base_uri": "https://localhost:8080/",
          "height": 314
        },
        "id": "Q6S7d-18CUJe",
        "outputId": "a6a02d00-c241-4149-ba6b-2de8ad185029"
      },
      "execution_count": null,
      "outputs": [
        {
          "output_type": "stream",
          "name": "stdout",
          "text": [
            "Saving figure fig-3\n"
          ]
        },
        {
          "output_type": "display_data",
          "data": {
            "image/png": "[encoded data removed]",
            "text/plain": [
              "<Figure size 576x288 with 2 Axes>"
            ]
          },
          "metadata": {
            "needs_background": "light"
          }
        }
      ]
    },
    {
      "cell_type": "code",
      "source": [
        "import save_model_summary \n",
        "save_model_summary.save_model_summary(model, history ,file_name = \"model_2\")"
      ],
      "metadata": {
        "id": "Ifeqi2rBCayO"
      },
      "execution_count": null,
      "outputs": []
    },
    {
      "cell_type": "code",
      "source": [
        ""
      ],
      "metadata": {
        "id": "IMGMRRxxC1G8"
      },
      "execution_count": null,
      "outputs": []
    }
  ],
  "metadata": {
    "kernelspec": {
      "display_name": "tensorflow",
      "language": "python",
      "name": "tensorflow"
    },
    "language_info": {
      "codemirror_mode": {
        "name": "ipython",
        "version": 3
      },
      "file_extension": ".py",
      "mimetype": "text/x-python",
      "name": "python",
      "nbconvert_exporter": "python",
      "pygments_lexer": "ipython3",
      "version": "3.6.8"
    },
    "colab": {
      "name": "ex2-conv-cifar10-in-colab.ipynb",
      "provenance": [],
      "collapsed_sections": [],
      "include_colab_link": true
    }
  },
  "nbformat": 4,
  "nbformat_minor": 0
}